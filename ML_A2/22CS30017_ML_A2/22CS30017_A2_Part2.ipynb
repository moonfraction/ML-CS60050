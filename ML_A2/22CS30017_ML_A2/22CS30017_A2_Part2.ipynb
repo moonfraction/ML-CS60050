{
  "cells": [
    {
      "cell_type": "markdown",
      "metadata": {
        "id": "k1ZrkAyUUzz1"
      },
      "source": [
        "# Programming Assignment 2 Part 2 - Principal Component Analysis"
      ]
    },
    {
      "cell_type": "markdown",
      "metadata": {
        "id": "NLBDoi2OUzz2"
      },
      "source": [
        "In this programming assignment, you will implement a decision tree model and PCA algorithm.\n",
        "\n",
        "**For Even Roll Number Students:**\n",
        "\n",
        "* In this part, you have to implement the PCA algorithm to perform dimensionality reduction on the breast cancer dataset.\n",
        "* Dataset: ````breast-cancer.csv```` with ``diagnosis`` as the target variable.\n",
        "\n",
        "**For Odd Roll Number Students:**\n",
        "\n",
        "* In this part, you have to implement the PCA algorithm to perform dimensionality reduction on the wine quality dataset.\n",
        "* Dataset: ````wine-quality.csv```` with ``Customer_Segment`` as the target variable.\n",
        "\n",
        "The assignment zip file (ML_CS60050_A2.zip) contains the respective datasets which will be used in this assignment.\n",
        "\n",
        "You have to write your code in this jupyter notebook. You have to write your code only between ### START CODE HERE ### and ### END CODE HERE ### comments."
      ]
    },
    {
      "cell_type": "markdown",
      "metadata": {
        "id": "kBTualU1Uzz3"
      },
      "source": [
        "### Assignment Submission Instructions\n",
        "\n",
        "Please submit your assignment as a ZIP file that contains a folder named in the following format: `RollNo_ML_A2`. Inside this folder, include two Jupyter notebooks and a Report with the following names:\n",
        "\n",
        "1. `RollNo_A2_Part1.ipynb`\n",
        "2. `RollNo_A2_Part2.ipynb`\n",
        "3. `RollNo_report.pdf`\n",
        "\n",
        "\n",
        "Instructions for the Report:\n",
        "* Summarize results from noiseless and noisy datasets.\n",
        "* Compare performance and note the impact of noise.\n",
        "* Conclude with key findings and implications.\n",
        "\n",
        "Make sure that you replace `RollNo` with your actual roll number in both the folder name and the notebook filenames.\n",
        "\n",
        "For example, if your roll number is `23CS60R11`, the folder should be named `23CS60R11_ML_A2`, and the three files should be named `23CS60R11_A2_Part1.ipynb`, `23CS60R11_A2_Part2.ipynb` and `RollNo_report.pdf`.\n",
        "\n",
        "Submit this ZIP file as your assignment submission."
      ]
    },
    {
      "cell_type": "code",
      "execution_count": 1,
      "metadata": {
        "colab": {
          "base_uri": "https://localhost:8080/"
        },
        "execution": {
          "iopub.execute_input": "2024-08-29T09:25:06.676623Z",
          "iopub.status.busy": "2024-08-29T09:25:06.675572Z",
          "iopub.status.idle": "2024-08-29T09:25:09.528544Z",
          "shell.execute_reply": "2024-08-29T09:25:09.527379Z",
          "shell.execute_reply.started": "2024-08-29T09:25:06.676576Z"
        },
        "id": "3J2ccixgUzz3",
        "outputId": "c86d40a2-5207-4334-abfc-b346910fdcfa",
        "trusted": true
      },
      "outputs": [],
      "source": [
        "import seaborn as sns\n",
        "import numpy as np\n",
        "import pandas as pd\n",
        "import matplotlib.pyplot as plt\n",
        "import plotly.express as px\n",
        "import plotly.graph_objects as go\n",
        "from plotly.subplots import make_subplots"
      ]
    },
    {
      "cell_type": "markdown",
      "metadata": {
        "id": "IcTCiMnjUzz4"
      },
      "source": [
        "### 2.1. Reading and Pre-processing the data"
      ]
    },
    {
      "cell_type": "markdown",
      "metadata": {
        "id": "vSLuxjVIUzz4"
      },
      "source": [
        "In the following function ```load_data```, you have to read the data from the file and store the data into a pandas dataframe. Then you have to create two numpy arrays $X$ and $y$ from the dataframe:\n",
        "\n",
        "+ $X$: Input data of the shape (number of samples, number of input features)\n",
        "+ $y$: Target variable of the shape (number of samples,)\n"
      ]
    },
    {
      "cell_type": "code",
      "execution_count": 2,
      "metadata": {
        "colab": {
          "base_uri": "https://localhost:8080/"
        },
        "id": "64alrwzOUzz4",
        "outputId": "37a481e8-d136-422f-d044-4a9636b293c0"
      },
      "outputs": [
        {
          "name": "stdout",
          "output_type": "stream",
          "text": [
            "Shape of X: (178, 13)  Shape of y: (178,)\n"
          ]
        }
      ],
      "source": [
        "## CODE REQUIRED ##\n",
        "\n",
        "def load_data(filepath):\n",
        "    \"\"\"\n",
        "    This function loads the data into a pandas dataframe and coverts it into X and y numpy arrays\n",
        "\n",
        "    Args:\n",
        "        filepath: File path as a string\n",
        "    Returns:\n",
        "        X: Input data of the shape (# of samples, # of input features)\n",
        "        y: Target variable of the shape (# of sample,)\n",
        "    \"\"\"\n",
        "\n",
        "    ### START CODE HERE ###\n",
        "    data = pd.read_csv(filepath)\n",
        "    X = data.iloc[:,:-1].values\n",
        "    y = data.iloc[:,-1].values\n",
        "\n",
        "    ### END CODE HERE ###\n",
        "\n",
        "    return X,y\n",
        "\n",
        "filepath = None\n",
        "### START CODE HERE ###\n",
        "filepath = \"wine-quality.csv\"\n",
        "### END CODE HERE ###\n",
        "X, y = load_data(filepath)\n",
        "\n",
        "print(\"Shape of X:\",X.shape, \" Shape of y:\",y.shape)"
      ]
    },
    {
      "cell_type": "markdown",
      "metadata": {
        "id": "OVeD3XYVUzz4"
      },
      "source": [
        "### 2.2. Model Implementation"
      ]
    },
    {
      "cell_type": "markdown",
      "metadata": {
        "id": "KtOnCcF2Uzz4"
      },
      "source": [
        "### The main steps of the PCA algorithm are as follows:\n",
        "\n",
        "1. Compute the mean of the input data along each feature dimension.\n",
        "2. Subtract the mean from the input data to center it around zero.\n",
        "3. Compute the covariance matrix of the centered input data.\n",
        "4. Compute the eigenvectors and eigenvalues of the covariance matrix.\n",
        "5. Keep only the first `n_components` eigenvectors as the principal components.\n",
        "6. Compute the explained variance ratio for each principal component.\n",
        "7. Transform the input data by projecting it onto the principal components.\n",
        "\n",
        "#### The mean of the input data along each feature dimension is computed as:\n",
        "\n",
        "$$\n",
        "\\boldsymbol{\\mu} = \\frac{1}{n}\\sum_{i=1}^{n}\\mathbf{x}_i\n",
        "$$\n",
        "\n",
        "where $n$ is the number of samples and $\\mathbf{x}_i$ is the feature vector of the $i$th sample.\n",
        "\n",
        "#### The centered input data is computed as:\n",
        "\n",
        "$$\n",
        "\\mathbf{x}_i' = \\mathbf{x}_i - \\boldsymbol{\\mu}\n",
        "$$\n",
        "\n",
        "where $\\mathbf{X}$ is the input data matrix with shape $(n, p)$, $n$ is the number of samples, and $p$ is the number of features.\n",
        "\n",
        "#### The covariance matrix of the centered input data is computed as:\n",
        "\n",
        "$$\n",
        "\\mathbf{C} = \\frac{1}{n-1}\\sum_{i=1}^{n}(\\mathbf{x}_i' \\cdot \\mathbf{x}_i'^T)\n",
        "$$\n",
        "\n",
        "where $\\mathbf{C}$ is the covariance matrix with shape $(p, p)$.\n",
        "\n",
        "#### The eigenvectors and eigenvalues of the covariance matrix are computed as:\n",
        "\n",
        "$$\n",
        "\\mathbf{C} \\cdot \\mathbf{v}_i = \\lambda_i \\cdot \\mathbf{v}_i\n",
        "$$\n",
        "\n",
        "where $\\mathbf{v}_i$ is the $i$th eigenvector with length $p$, and $\\lambda_i$ is the corresponding eigenvalue.\n",
        "\n",
        "#### Here, we keep only the first `n_components` eigenvectors as the principal components.\n",
        "\n",
        "#### The explained variance ratio for each principal component is computed as:\n",
        "\n",
        "$$\n",
        "\\mathrm{ExplainedVarianceRatio_i} = \\frac{\\lambda_i}{\\sum_{j=1}^{p}\\lambda_j}\n",
        "$$\n",
        "\n",
        "where $\\mathrm{ExplainedVarianceRatio_i}$ is the explained variance ratio for the $i$th principal component.\n",
        "\n",
        "#### The transformed data is computed as:\n",
        "\n",
        "$$\n",
        "\\mathbf{X}_{\\text{transformed}} = \\mathbf{X}_{\\text{centered}} \\cdot \\mathbf{V}\n",
        "$$\n",
        "\n",
        "where $\\mathbf{V}$ is the matrix of principal components with shape $(p, k)$, $\\mathbf{X}_{\\text{centered}}$ is the centered input data matrix with shape $(n, p)$, and $\\mathbf{X}_{\\text{transformed}}$ is the transformed data matrix with shape $(n, k)$."
      ]
    },
    {
      "cell_type": "code",
      "execution_count": 3,
      "metadata": {
        "execution": {
          "iopub.execute_input": "2024-08-29T09:25:54.760641Z",
          "iopub.status.busy": "2024-08-29T09:25:54.759458Z",
          "iopub.status.idle": "2024-08-29T09:25:54.773826Z",
          "shell.execute_reply": "2024-08-29T09:25:54.772749Z",
          "shell.execute_reply.started": "2024-08-29T09:25:54.760587Z"
        },
        "id": "irYGaHoMUzz5",
        "trusted": true
      },
      "outputs": [],
      "source": [
        "## CODE REQUIRED ##\n",
        "class PCA:\n",
        "    \"\"\"\n",
        "    Principal Component Analysis (PCA) class for dimensionality reduction.\n",
        "    \"\"\"\n",
        "\n",
        "    def __init__(self, n_components):\n",
        "        \"\"\"\n",
        "        Constructor method that initializes the PCA object with the number of components to retain.\n",
        "\n",
        "        Args:\n",
        "        - n_components (int): Number of principal components to retain.\n",
        "        \"\"\"\n",
        "        self.n_components = n_components\n",
        "\n",
        "    def fit(self, X):\n",
        "        \"\"\"\n",
        "        Fits the PCA model to the input data and computes the principal components.\n",
        "        (HINT: Use numpy's linalg module to compute eigenvalues and eigenvectors)\n",
        "\n",
        "        Args:\n",
        "        - X (numpy.ndarray): Input data matrix with shape (n_samples, n_features).\n",
        "        \"\"\"\n",
        "        # Compute the mean of the input data along each feature dimension.\n",
        "        ### START CODE HERE ###\n",
        "        mean = X.mean(axis=0)\n",
        "        ### END CODE HERE ###\n",
        "\n",
        "        # Subtract the mean from the input data to center it around zero.\n",
        "        ### START CODE HERE ###\n",
        "        X = X - mean\n",
        "        ### END CODE HERE ###\n",
        "\n",
        "        # Compute the covariance matrix of the centered input data.\n",
        "        ### START CODE HERE ###\n",
        "        cov = np.dot(X.T, X) / X.shape[0]\n",
        "        ### END CODE HERE ###\n",
        "\n",
        "        # Compute the eigenvectors and eigenvalues of the covariance matrix.\n",
        "        ### START CODE HERE ###\n",
        "        eigenvalues, eigenvectors = np.linalg.eig(cov)\n",
        "        ### END CODE HERE ###\n",
        "\n",
        "        # Keep only the first n_components eigenvectors as the principal components.\n",
        "        self.components = eigenvectors[:,:self.n_components]\n",
        "\n",
        "        # Compute the total variance of the input data\n",
        "        ### START CODE HERE ###\n",
        "        total_variance = np.trace(cov)\n",
        "        ### END CODE HERE ###\n",
        "\n",
        "        # Compute the variance explained by each principal component\n",
        "        self.explained_variances = eigenvalues[:self.n_components]\n",
        "\n",
        "        # Compute the explained variance ratio for each principal component\n",
        "        self.explained_variance_ratio_ = self.explained_variances / total_variance\n",
        "\n",
        "    def transform(self, X):\n",
        "        \"\"\"\n",
        "        Transforms the input data by projecting it onto the principal components.\n",
        "\n",
        "        Args:\n",
        "        - X (numpy.ndarray): Input data matrix with shape (n_samples, n_features).\n",
        "\n",
        "        Returns:\n",
        "        - transformed_data (numpy.ndarray): Transformed data matrix with shape (n_samples, n_components).\n",
        "        \"\"\"\n",
        "\n",
        "        ### START CODE HERE ###\n",
        "        transformed_data = np.dot(X, self.components)\n",
        "\n",
        "        ### END CODE HERE ###\n",
        "\n",
        "        return transformed_data\n",
        "\n",
        "    def fit_transform(self, X):\n",
        "        \"\"\"\n",
        "        Fits the PCA model to the input data and computes the principal components then\n",
        "        transforms the input data by projecting it onto the principal components.\n",
        "\n",
        "        Args:\n",
        "        - X (numpy.ndarray): Input data matrix with shape (n_samples, n_features).\n",
        "        \"\"\"\n",
        "        self.fit(X)\n",
        "        transformed_data = self.transform(X)\n",
        "        return transformed_data"
      ]
    },
    {
      "cell_type": "markdown",
      "metadata": {
        "id": "S2PSIZBJUzz5"
      },
      "source": [
        "### 2.3. Executing the PCA Algorithm"
      ]
    },
    {
      "cell_type": "code",
      "execution_count": 4,
      "metadata": {
        "colab": {
          "base_uri": "https://localhost:8080/"
        },
        "execution": {
          "iopub.execute_input": "2024-08-29T09:25:56.792845Z",
          "iopub.status.busy": "2024-08-29T09:25:56.792075Z",
          "iopub.status.idle": "2024-08-29T09:25:56.797559Z",
          "shell.execute_reply": "2024-08-29T09:25:56.796476Z",
          "shell.execute_reply.started": "2024-08-29T09:25:56.792803Z"
        },
        "id": "U6A8S59dUzz5",
        "outputId": "22f76d4f-c25c-41d3-f419-926499f62567",
        "trusted": true
      },
      "outputs": [
        {
          "name": "stdout",
          "output_type": "stream",
          "text": [
            "[0.99809123 0.00173592]\n"
          ]
        }
      ],
      "source": [
        "# Initialize the PCA class with the number of principal components to retain (in this case, 2).\n",
        "pca = PCA(2)\n",
        "\n",
        "# Fit the PCA model to the input data X.\n",
        "pca.fit(X)\n",
        "\n",
        "# Print the explained variance ratio for each of the selected principal components.\n",
        "# This shows how much variance each principal component explains in relation to the total variance.\n",
        "print(pca.explained_variance_ratio_)"
      ]
    },
    {
      "cell_type": "markdown",
      "metadata": {
        "id": "QA9IW_YzUzz6"
      },
      "source": [
        "### 2.4. Transforming Data"
      ]
    },
    {
      "cell_type": "code",
      "execution_count": 5,
      "metadata": {
        "colab": {
          "base_uri": "https://localhost:8080/"
        },
        "execution": {
          "iopub.execute_input": "2024-08-29T09:26:08.598819Z",
          "iopub.status.busy": "2024-08-29T09:26:08.598044Z",
          "iopub.status.idle": "2024-08-29T09:26:08.604132Z",
          "shell.execute_reply": "2024-08-29T09:26:08.602996Z",
          "shell.execute_reply.started": "2024-08-29T09:26:08.598777Z"
        },
        "id": "-J-2R0T8Uzz6",
        "outputId": "e6015bb5-3a75-4414-8c2d-05f7ab19c3ce",
        "trusted": true
      },
      "outputs": [
        {
          "name": "stdout",
          "output_type": "stream",
          "text": [
            "Shape of transformed X:  (178, 2)\n"
          ]
        }
      ],
      "source": [
        "# Transform the input data X using the previously fitted PCA model.\n",
        "X_transformed = pca.transform(X)\n",
        "\n",
        "# Print the shape of the transformed data X.\n",
        "print(\"Shape of transformed X: \", X_transformed.shape)\n"
      ]
    },
    {
      "cell_type": "markdown",
      "metadata": {
        "id": "Zlgxdsc0Uzz6"
      },
      "source": [
        "### 2.5. Visualizing Data"
      ]
    },
    {
      "cell_type": "code",
      "execution_count": 6,
      "metadata": {
        "colab": {
          "base_uri": "https://localhost:8080/",
          "height": 542
        },
        "execution": {
          "iopub.execute_input": "2024-08-29T09:26:11.272902Z",
          "iopub.status.busy": "2024-08-29T09:26:11.271995Z",
          "iopub.status.idle": "2024-08-29T09:26:11.337618Z",
          "shell.execute_reply": "2024-08-29T09:26:11.336641Z",
          "shell.execute_reply.started": "2024-08-29T09:26:11.272862Z"
        },
        "id": "fsozvTFaUzz6",
        "outputId": "f037ceb1-2d7e-4745-8728-4152082576f7",
        "trusted": true
      },
      "outputs": [
        {
          "data": {
            "application/vnd.plotly.v1+json": {
              "config": {
                "plotlyServerURL": "https://plot.ly"
              },
              "data": [
                {
                  "hovertemplate": "x=%{x}<br>y=%{y}<br>color=%{marker.color}<extra></extra>",
                  "legendgroup": "",
                  "marker": {
                    "color": [
                      1,
                      1,
                      1,
                      1,
                      1,
                      1,
                      1,
                      1,
                      1,
                      1,
                      1,
                      1,
                      1,
                      1,
                      1,
                      1,
                      1,
                      1,
                      1,
                      1,
                      1,
                      1,
                      1,
                      1,
                      1,
                      1,
                      1,
                      1,
                      1,
                      1,
                      1,
                      1,
                      1,
                      1,
                      1,
                      1,
                      1,
                      1,
                      1,
                      1,
                      1,
                      1,
                      1,
                      1,
                      1,
                      1,
                      1,
                      1,
                      1,
                      1,
                      1,
                      1,
                      1,
                      1,
                      1,
                      1,
                      1,
                      1,
                      1,
                      2,
                      2,
                      2,
                      2,
                      2,
                      2,
                      2,
                      2,
                      2,
                      2,
                      2,
                      2,
                      2,
                      2,
                      2,
                      2,
                      2,
                      2,
                      2,
                      2,
                      2,
                      2,
                      2,
                      2,
                      2,
                      2,
                      2,
                      2,
                      2,
                      2,
                      2,
                      2,
                      2,
                      2,
                      2,
                      2,
                      2,
                      2,
                      2,
                      2,
                      2,
                      2,
                      2,
                      2,
                      2,
                      2,
                      2,
                      2,
                      2,
                      2,
                      2,
                      2,
                      2,
                      2,
                      2,
                      2,
                      2,
                      2,
                      2,
                      2,
                      2,
                      2,
                      2,
                      2,
                      2,
                      2,
                      2,
                      2,
                      2,
                      2,
                      2,
                      3,
                      3,
                      3,
                      3,
                      3,
                      3,
                      3,
                      3,
                      3,
                      3,
                      3,
                      3,
                      3,
                      3,
                      3,
                      3,
                      3,
                      3,
                      3,
                      3,
                      3,
                      3,
                      3,
                      3,
                      3,
                      3,
                      3,
                      3,
                      3,
                      3,
                      3,
                      3,
                      3,
                      3,
                      3,
                      3,
                      3,
                      3,
                      3,
                      3,
                      3,
                      3,
                      3,
                      3,
                      3,
                      3,
                      3,
                      3
                    ],
                    "coloraxis": "coloraxis",
                    "symbol": "circle"
                  },
                  "mode": "markers",
                  "name": "",
                  "orientation": "v",
                  "showlegend": false,
                  "type": "scatter",
                  "x": [
                    -1067.0556874907402,
                    -1051.59012786219,
                    -1186.55384112004,
                    -1481.7328475536153,
                    -736.9212797068981,
                    -1451.7238999405258,
                    -1291.4642890693965,
                    -1296.8945680432407,
                    -1046.5295710034154,
                    -1046.5422613382718,
                    -1511.5724201440505,
                    -1281.4359359348016,
                    -1321.327118593968,
                    -1151.4180664889006,
                    -1548.5461020597754,
                    -1311.7382862016211,
                    -1281.8723588387163,
                    -1131.8102992800789,
                    -1681.6110957024093,
                    -846.895885678764,
                    -782.0863022046575,
                    -771.6391457430749,
                    -1036.5857384202084,
                    -1016.4742207377951,
                    -846.5125939755819,
                    -831.9914521641456,
                    -1196.418304425146,
                    -1286.411873224181,
                    -916.7031758074532,
                    -1036.5009552840684,
                    -1286.519160304994,
                    -1516.5856470581903,
                    -991.6434591046952,
                    -1237.0939882480393,
                    -1096.7237151996233,
                    -921.5726656289,
                    -881.7791317493952,
                    -1106.51126737807,
                    -1021.5371397242073,
                    -762.1357103161693,
                    -796.9223504527337,
                    -1036.3768003717948,
                    -1096.5880563832504,
                    -681.6780528167011,
                    -886.7197180862457,
                    -1081.7475140319702,
                    -1066.6045566694424,
                    -986.6041932815262,
                    -1061.6126235906434,
                    -1261.6804562240316,
                    -1151.4317253617771,
                    -1266.4216714682752,
                    -1191.7591194977367,
                    -1376.7787791879164,
                    -1061.890320878436,
                    -1121.8259994251835,
                    -971.9098145607542,
                    -1271.5655595994197,
                    -1286.6748055257467,
                    -521.4600177503069,
                    -681.6425862055546,
                    -451.66827131138814,
                    -631.5222356209457,
                    -421.4335826076522,
                    -356.7402217667537,
                    -679.5869477601088,
                    -503.28018422572455,
                    -511.2512979102868,
                    -751.7888641937836,
                    -720.5265874722643,
                    -871.6228465113664,
                    -411.38858571479034,
                    -473.396682323116,
                    -987.2094647516647,
                    -887.5867648427615,
                    -429.61637930047414,
                    -393.43245568866655,
                    -501.85911075088785,
                    -752.2643978583365,
                    -464.6504605580374,
                    -279.43335789353716,
                    -715.3613689566474,
                    -631.2023161929965,
                    -516.3597198186807,
                    -521.5394087826852,
                    -451.64055646841786,
                    -496.4463162743632,
                    -563.3838508293109,
                    -681.3119563583289,
                    -626.0613818015986,
                    -481.30737499975993,
                    -451.3882935275173,
                    -496.27882313103333,
                    -291.470493260607,
                    -346.64143411280776,
                    -939.6761049753104,
                    -627.2135304490622,
                    -429.4044353981178,
                    -661.4124156415053,
                    -407.45180803545475,
                    -711.5610936518054,
                    -563.4189947087244,
                    -439.61032159030776,
                    -416.40341181990283,
                    -673.3395704507772,
                    -316.4829662799501,
                    -511.2860111155467,
                    -489.3443404690074,
                    -313.5349280904225,
                    -681.5020124326741,
                    -563.7562696774766,
                    -326.44983457792455,
                    -608.67404504149,
                    -435.4317600399066,
                    -386.363075089197,
                    -408.37770198855793,
                    -496.3832361417043,
                    -346.7967347210365,
                    -373.32161583633746,
                    -565.3947790208935,
                    -626.5474668543593,
                    -466.95813908307116,
                    -366.6659299685401,
                    -381.4033281568096,
                    -381.3355335061915,
                    -379.38910723618227,
                    -353.4138717458629,
                    -467.4623394937025,
                    -343.43142039991795,
                    -581.255066385128,
                    -632.019707843748,
                    -531.7081682246961,
                    -561.5775962372019,
                    -601.7231785779414,
                    -651.3597346048772,
                    -696.5106613356202,
                    -721.3947774529504,
                    -516.5411741321828,
                    -581.4164624382797,
                    -591.6246636599461,
                    -601.5462186222525,
                    -781.3970009516994,
                    -521.566498517139,
                    -551.488360708784,
                    -856.8053855060635,
                    -831.6109708152857,
                    -416.29686821271486,
                    -626.3666161149694,
                    -651.4733189347302,
                    -551.867901598753,
                    -502.04350897096225,
                    -481.86392015310247,
                    -426.9219672676229,
                    -676.5950494965779,
                    -641.6760904015312,
                    -726.4724514042748,
                    -481.4609758972276,
                    -881.4925494549932,
                    -661.5787096120231,
                    -621.4314185516392,
                    -521.4238724510691,
                    -681.7372770264263,
                    -571.7276097776867,
                    -676.7243102704019,
                    -616.444459842369,
                    -521.4148636495435,
                    -696.8032017429592,
                    -686.4076970784997,
                    -751.6754728562967,
                    -631.8178901533512,
                    -511.57150026096605,
                    -471.40912994676444,
                    -661.4653055714303,
                    -741.5124972447752,
                    -751.624312881559,
                    -836.9507818889333,
                    -841.9489500569128,
                    -561.5495179296944
                  ],
                  "xaxis": "x",
                  "y": [
                    -108.51625428742898,
                    -81.65940586982501,
                    -80.4868141034489,
                    -87.2168525849611,
                    -105.51411816124931,
                    -86.69196487863569,
                    -73.5051569112921,
                    -98.47355593644744,
                    -78.8439657174807,
                    -79.92258061532726,
                    -78.68980632659022,
                    -72.73648978241759,
                    -66.01910922281787,
                    -70.92148833429187,
                    -74.90567636129967,
                    -89.23895221697524,
                    -97.82892578655144,
                    -95.5015433704519,
                    -78.66964511314558,
                    -101.41678296619129,
                    -112.59208005064154,
                    -88.84159663915408,
                    -83.06108180322397,
                    -77.45341953948315,
                    -81.52827749070055,
                    -109.91574510284835,
                    -72.22679230212965,
                    -71.63577748786543,
                    -91.27943451603862,
                    -78.06439200387325,
                    -78.81138473195077,
                    -79.64422617824897,
                    -86.88020862527418,
                    -110.58944859612963,
                    -91.0622037018872,
                    -84.2312019031121,
                    -94.79685312823842,
                    -78.86613943476495,
                    -80.29904924513012,
                    -114.87095570063818,
                    -103.34607331341118,
                    -72.1390050176718,
                    -81.98069746443342,
                    -91.40895347119857,
                    -91.75481191269304,
                    -92.34345471113745,
                    -83.53717861377204,
                    -83.97260255159505,
                    -84.71876038930134,
                    -86.16036431767344,
                    -71.97082070408234,
                    -72.02656866434252,
                    -90.2846255969623,
                    -91.06526893368486,
                    -99.63303706777123,
                    -96.68832217920438,
                    -101.24101596462597,
                    -79.92749829697607,
                    -85.66734342478733,
                    -79.0291555837546,
                    -89.3439900891116,
                    -92.4925992508989,
                    -83.29774012973387,
                    -80.07599274474684,
                    -98.19580180911186,
                    -86.46550301576478,
                    -69.5304842534685,
                    -69.493098001971,
                    -97.119935153542,
                    -138.65424873881543,
                    -88.08395806743967,
                    -79.40026843071317,
                    -79.27097142108812,
                    -122.27595092112252,
                    -85.81664735415295,
                    -89.83489468521435,
                    -79.4934217210593,
                    -103.58256020344741,
                    -123.05521591592253,
                    -93.38598435774716,
                    -81.56519957380151,
                    -73.83701859567259,
                    -67.44551108489703,
                    -76.49402029324094,
                    -85.24806476133251,
                    -91.47692664156834,
                    -81.811505964784,
                    -78.70554152887962,
                    -72.4994333344449,
                    -59.52008485439761,
                    -72.97023346686645,
                    -78.60909193833783,
                    -71.77255330760588,
                    -83.3267856261119,
                    -92.3555237686884,
                    -145.81788593245082,
                    -123.44163844220607,
                    -77.83104535759317,
                    -76.797550863763,
                    -81.2735579663101,
                    -84.85370762484297,
                    -78.50360453430119,
                    -90.77578010506207,
                    -79.14039479944938,
                    -73.61029560807812,
                    -84.99117681913945,
                    -71.46215561998551,
                    -75.94530720516558,
                    -86.96459752336501,
                    -82.45266591247845,
                    -97.54058671345427,
                    -82.77920161112651,
                    -92.75967562718587,
                    -80.85702954184812,
                    -77.76482815496763,
                    -78.33438912324627,
                    -77.74825340602631,
                    -102.45001382059559,
                    -73.83907329907429,
                    -77.47057923334023,
                    -85.43522927481075,
                    -111.53238473943559,
                    -96.21323330829465,
                    -79.83590766263262,
                    -75.82780333122768,
                    -78.84831864109853,
                    -80.34429167951447,
                    -84.48826348517119,
                    -82.57304988325977,
                    -70.2929378278302,
                    -111.2901436126865,
                    -95.15457310911391,
                    -88.73418090856653,
                    -95.94445766645116,
                    -73.9658397260081,
                    -82.2118304560446,
                    -76.79412732892689,
                    -87.55903096271295,
                    -78.26740044185763,
                    -91.18728604094433,
                    -85.92739458868569,
                    -75.71875791748131,
                    -88.41240191977005,
                    -82.79569485735976,
                    -97.37545399668474,
                    -87.83099324791804,
                    -73.21082466042381,
                    -75.55419769325188,
                    -81.11768097756544,
                    -103.89723747773924,
                    -114.83421893242252,
                    -104.17435555041821,
                    -109.18846365008994,
                    -86.62446715316962,
                    -92.23024661797771,
                    -80.79468429804813,
                    -81.10103440887912,
                    -82.15641811334461,
                    -87.10375933004248,
                    -78.73270671169448,
                    -79.40549325345415,
                    -95.49441345032412,
                    -96.49731355490573,
                    -94.53476139414673,
                    -79.76909324082739,
                    -79.43074424900209,
                    -99.38220852748677,
                    -76.47010825708738,
                    -92.41548505446491,
                    -101.55749390004308,
                    -87.48716055044217,
                    -78.28379164491872,
                    -79.91952780430722,
                    -82.48298698373029,
                    -89.3593140642173,
                    -105.80040811124509,
                    -105.69494267631435,
                    -86.81079274976727
                  ],
                  "yaxis": "y"
                }
              ],
              "layout": {
                "coloraxis": {
                  "colorbar": {
                    "title": {
                      "text": "color"
                    }
                  },
                  "colorscale": [
                    [
                      0,
                      "#0d0887"
                    ],
                    [
                      0.1111111111111111,
                      "#46039f"
                    ],
                    [
                      0.2222222222222222,
                      "#7201a8"
                    ],
                    [
                      0.3333333333333333,
                      "#9c179e"
                    ],
                    [
                      0.4444444444444444,
                      "#bd3786"
                    ],
                    [
                      0.5555555555555556,
                      "#d8576b"
                    ],
                    [
                      0.6666666666666666,
                      "#ed7953"
                    ],
                    [
                      0.7777777777777778,
                      "#fb9f3a"
                    ],
                    [
                      0.8888888888888888,
                      "#fdca26"
                    ],
                    [
                      1,
                      "#f0f921"
                    ]
                  ]
                },
                "legend": {
                  "tracegroupgap": 0
                },
                "margin": {
                  "t": 60
                },
                "template": {
                  "data": {
                    "bar": [
                      {
                        "error_x": {
                          "color": "#2a3f5f"
                        },
                        "error_y": {
                          "color": "#2a3f5f"
                        },
                        "marker": {
                          "line": {
                            "color": "#E5ECF6",
                            "width": 0.5
                          },
                          "pattern": {
                            "fillmode": "overlay",
                            "size": 10,
                            "solidity": 0.2
                          }
                        },
                        "type": "bar"
                      }
                    ],
                    "barpolar": [
                      {
                        "marker": {
                          "line": {
                            "color": "#E5ECF6",
                            "width": 0.5
                          },
                          "pattern": {
                            "fillmode": "overlay",
                            "size": 10,
                            "solidity": 0.2
                          }
                        },
                        "type": "barpolar"
                      }
                    ],
                    "carpet": [
                      {
                        "aaxis": {
                          "endlinecolor": "#2a3f5f",
                          "gridcolor": "white",
                          "linecolor": "white",
                          "minorgridcolor": "white",
                          "startlinecolor": "#2a3f5f"
                        },
                        "baxis": {
                          "endlinecolor": "#2a3f5f",
                          "gridcolor": "white",
                          "linecolor": "white",
                          "minorgridcolor": "white",
                          "startlinecolor": "#2a3f5f"
                        },
                        "type": "carpet"
                      }
                    ],
                    "choropleth": [
                      {
                        "colorbar": {
                          "outlinewidth": 0,
                          "ticks": ""
                        },
                        "type": "choropleth"
                      }
                    ],
                    "contour": [
                      {
                        "colorbar": {
                          "outlinewidth": 0,
                          "ticks": ""
                        },
                        "colorscale": [
                          [
                            0,
                            "#0d0887"
                          ],
                          [
                            0.1111111111111111,
                            "#46039f"
                          ],
                          [
                            0.2222222222222222,
                            "#7201a8"
                          ],
                          [
                            0.3333333333333333,
                            "#9c179e"
                          ],
                          [
                            0.4444444444444444,
                            "#bd3786"
                          ],
                          [
                            0.5555555555555556,
                            "#d8576b"
                          ],
                          [
                            0.6666666666666666,
                            "#ed7953"
                          ],
                          [
                            0.7777777777777778,
                            "#fb9f3a"
                          ],
                          [
                            0.8888888888888888,
                            "#fdca26"
                          ],
                          [
                            1,
                            "#f0f921"
                          ]
                        ],
                        "type": "contour"
                      }
                    ],
                    "contourcarpet": [
                      {
                        "colorbar": {
                          "outlinewidth": 0,
                          "ticks": ""
                        },
                        "type": "contourcarpet"
                      }
                    ],
                    "heatmap": [
                      {
                        "colorbar": {
                          "outlinewidth": 0,
                          "ticks": ""
                        },
                        "colorscale": [
                          [
                            0,
                            "#0d0887"
                          ],
                          [
                            0.1111111111111111,
                            "#46039f"
                          ],
                          [
                            0.2222222222222222,
                            "#7201a8"
                          ],
                          [
                            0.3333333333333333,
                            "#9c179e"
                          ],
                          [
                            0.4444444444444444,
                            "#bd3786"
                          ],
                          [
                            0.5555555555555556,
                            "#d8576b"
                          ],
                          [
                            0.6666666666666666,
                            "#ed7953"
                          ],
                          [
                            0.7777777777777778,
                            "#fb9f3a"
                          ],
                          [
                            0.8888888888888888,
                            "#fdca26"
                          ],
                          [
                            1,
                            "#f0f921"
                          ]
                        ],
                        "type": "heatmap"
                      }
                    ],
                    "heatmapgl": [
                      {
                        "colorbar": {
                          "outlinewidth": 0,
                          "ticks": ""
                        },
                        "colorscale": [
                          [
                            0,
                            "#0d0887"
                          ],
                          [
                            0.1111111111111111,
                            "#46039f"
                          ],
                          [
                            0.2222222222222222,
                            "#7201a8"
                          ],
                          [
                            0.3333333333333333,
                            "#9c179e"
                          ],
                          [
                            0.4444444444444444,
                            "#bd3786"
                          ],
                          [
                            0.5555555555555556,
                            "#d8576b"
                          ],
                          [
                            0.6666666666666666,
                            "#ed7953"
                          ],
                          [
                            0.7777777777777778,
                            "#fb9f3a"
                          ],
                          [
                            0.8888888888888888,
                            "#fdca26"
                          ],
                          [
                            1,
                            "#f0f921"
                          ]
                        ],
                        "type": "heatmapgl"
                      }
                    ],
                    "histogram": [
                      {
                        "marker": {
                          "pattern": {
                            "fillmode": "overlay",
                            "size": 10,
                            "solidity": 0.2
                          }
                        },
                        "type": "histogram"
                      }
                    ],
                    "histogram2d": [
                      {
                        "colorbar": {
                          "outlinewidth": 0,
                          "ticks": ""
                        },
                        "colorscale": [
                          [
                            0,
                            "#0d0887"
                          ],
                          [
                            0.1111111111111111,
                            "#46039f"
                          ],
                          [
                            0.2222222222222222,
                            "#7201a8"
                          ],
                          [
                            0.3333333333333333,
                            "#9c179e"
                          ],
                          [
                            0.4444444444444444,
                            "#bd3786"
                          ],
                          [
                            0.5555555555555556,
                            "#d8576b"
                          ],
                          [
                            0.6666666666666666,
                            "#ed7953"
                          ],
                          [
                            0.7777777777777778,
                            "#fb9f3a"
                          ],
                          [
                            0.8888888888888888,
                            "#fdca26"
                          ],
                          [
                            1,
                            "#f0f921"
                          ]
                        ],
                        "type": "histogram2d"
                      }
                    ],
                    "histogram2dcontour": [
                      {
                        "colorbar": {
                          "outlinewidth": 0,
                          "ticks": ""
                        },
                        "colorscale": [
                          [
                            0,
                            "#0d0887"
                          ],
                          [
                            0.1111111111111111,
                            "#46039f"
                          ],
                          [
                            0.2222222222222222,
                            "#7201a8"
                          ],
                          [
                            0.3333333333333333,
                            "#9c179e"
                          ],
                          [
                            0.4444444444444444,
                            "#bd3786"
                          ],
                          [
                            0.5555555555555556,
                            "#d8576b"
                          ],
                          [
                            0.6666666666666666,
                            "#ed7953"
                          ],
                          [
                            0.7777777777777778,
                            "#fb9f3a"
                          ],
                          [
                            0.8888888888888888,
                            "#fdca26"
                          ],
                          [
                            1,
                            "#f0f921"
                          ]
                        ],
                        "type": "histogram2dcontour"
                      }
                    ],
                    "mesh3d": [
                      {
                        "colorbar": {
                          "outlinewidth": 0,
                          "ticks": ""
                        },
                        "type": "mesh3d"
                      }
                    ],
                    "parcoords": [
                      {
                        "line": {
                          "colorbar": {
                            "outlinewidth": 0,
                            "ticks": ""
                          }
                        },
                        "type": "parcoords"
                      }
                    ],
                    "pie": [
                      {
                        "automargin": true,
                        "type": "pie"
                      }
                    ],
                    "scatter": [
                      {
                        "fillpattern": {
                          "fillmode": "overlay",
                          "size": 10,
                          "solidity": 0.2
                        },
                        "type": "scatter"
                      }
                    ],
                    "scatter3d": [
                      {
                        "line": {
                          "colorbar": {
                            "outlinewidth": 0,
                            "ticks": ""
                          }
                        },
                        "marker": {
                          "colorbar": {
                            "outlinewidth": 0,
                            "ticks": ""
                          }
                        },
                        "type": "scatter3d"
                      }
                    ],
                    "scattercarpet": [
                      {
                        "marker": {
                          "colorbar": {
                            "outlinewidth": 0,
                            "ticks": ""
                          }
                        },
                        "type": "scattercarpet"
                      }
                    ],
                    "scattergeo": [
                      {
                        "marker": {
                          "colorbar": {
                            "outlinewidth": 0,
                            "ticks": ""
                          }
                        },
                        "type": "scattergeo"
                      }
                    ],
                    "scattergl": [
                      {
                        "marker": {
                          "colorbar": {
                            "outlinewidth": 0,
                            "ticks": ""
                          }
                        },
                        "type": "scattergl"
                      }
                    ],
                    "scattermapbox": [
                      {
                        "marker": {
                          "colorbar": {
                            "outlinewidth": 0,
                            "ticks": ""
                          }
                        },
                        "type": "scattermapbox"
                      }
                    ],
                    "scatterpolar": [
                      {
                        "marker": {
                          "colorbar": {
                            "outlinewidth": 0,
                            "ticks": ""
                          }
                        },
                        "type": "scatterpolar"
                      }
                    ],
                    "scatterpolargl": [
                      {
                        "marker": {
                          "colorbar": {
                            "outlinewidth": 0,
                            "ticks": ""
                          }
                        },
                        "type": "scatterpolargl"
                      }
                    ],
                    "scatterternary": [
                      {
                        "marker": {
                          "colorbar": {
                            "outlinewidth": 0,
                            "ticks": ""
                          }
                        },
                        "type": "scatterternary"
                      }
                    ],
                    "surface": [
                      {
                        "colorbar": {
                          "outlinewidth": 0,
                          "ticks": ""
                        },
                        "colorscale": [
                          [
                            0,
                            "#0d0887"
                          ],
                          [
                            0.1111111111111111,
                            "#46039f"
                          ],
                          [
                            0.2222222222222222,
                            "#7201a8"
                          ],
                          [
                            0.3333333333333333,
                            "#9c179e"
                          ],
                          [
                            0.4444444444444444,
                            "#bd3786"
                          ],
                          [
                            0.5555555555555556,
                            "#d8576b"
                          ],
                          [
                            0.6666666666666666,
                            "#ed7953"
                          ],
                          [
                            0.7777777777777778,
                            "#fb9f3a"
                          ],
                          [
                            0.8888888888888888,
                            "#fdca26"
                          ],
                          [
                            1,
                            "#f0f921"
                          ]
                        ],
                        "type": "surface"
                      }
                    ],
                    "table": [
                      {
                        "cells": {
                          "fill": {
                            "color": "#EBF0F8"
                          },
                          "line": {
                            "color": "white"
                          }
                        },
                        "header": {
                          "fill": {
                            "color": "#C8D4E3"
                          },
                          "line": {
                            "color": "white"
                          }
                        },
                        "type": "table"
                      }
                    ]
                  },
                  "layout": {
                    "annotationdefaults": {
                      "arrowcolor": "#2a3f5f",
                      "arrowhead": 0,
                      "arrowwidth": 1
                    },
                    "autotypenumbers": "strict",
                    "coloraxis": {
                      "colorbar": {
                        "outlinewidth": 0,
                        "ticks": ""
                      }
                    },
                    "colorscale": {
                      "diverging": [
                        [
                          0,
                          "#8e0152"
                        ],
                        [
                          0.1,
                          "#c51b7d"
                        ],
                        [
                          0.2,
                          "#de77ae"
                        ],
                        [
                          0.3,
                          "#f1b6da"
                        ],
                        [
                          0.4,
                          "#fde0ef"
                        ],
                        [
                          0.5,
                          "#f7f7f7"
                        ],
                        [
                          0.6,
                          "#e6f5d0"
                        ],
                        [
                          0.7,
                          "#b8e186"
                        ],
                        [
                          0.8,
                          "#7fbc41"
                        ],
                        [
                          0.9,
                          "#4d9221"
                        ],
                        [
                          1,
                          "#276419"
                        ]
                      ],
                      "sequential": [
                        [
                          0,
                          "#0d0887"
                        ],
                        [
                          0.1111111111111111,
                          "#46039f"
                        ],
                        [
                          0.2222222222222222,
                          "#7201a8"
                        ],
                        [
                          0.3333333333333333,
                          "#9c179e"
                        ],
                        [
                          0.4444444444444444,
                          "#bd3786"
                        ],
                        [
                          0.5555555555555556,
                          "#d8576b"
                        ],
                        [
                          0.6666666666666666,
                          "#ed7953"
                        ],
                        [
                          0.7777777777777778,
                          "#fb9f3a"
                        ],
                        [
                          0.8888888888888888,
                          "#fdca26"
                        ],
                        [
                          1,
                          "#f0f921"
                        ]
                      ],
                      "sequentialminus": [
                        [
                          0,
                          "#0d0887"
                        ],
                        [
                          0.1111111111111111,
                          "#46039f"
                        ],
                        [
                          0.2222222222222222,
                          "#7201a8"
                        ],
                        [
                          0.3333333333333333,
                          "#9c179e"
                        ],
                        [
                          0.4444444444444444,
                          "#bd3786"
                        ],
                        [
                          0.5555555555555556,
                          "#d8576b"
                        ],
                        [
                          0.6666666666666666,
                          "#ed7953"
                        ],
                        [
                          0.7777777777777778,
                          "#fb9f3a"
                        ],
                        [
                          0.8888888888888888,
                          "#fdca26"
                        ],
                        [
                          1,
                          "#f0f921"
                        ]
                      ]
                    },
                    "colorway": [
                      "#636efa",
                      "#EF553B",
                      "#00cc96",
                      "#ab63fa",
                      "#FFA15A",
                      "#19d3f3",
                      "#FF6692",
                      "#B6E880",
                      "#FF97FF",
                      "#FECB52"
                    ],
                    "font": {
                      "color": "#2a3f5f"
                    },
                    "geo": {
                      "bgcolor": "white",
                      "lakecolor": "white",
                      "landcolor": "#E5ECF6",
                      "showlakes": true,
                      "showland": true,
                      "subunitcolor": "white"
                    },
                    "hoverlabel": {
                      "align": "left"
                    },
                    "hovermode": "closest",
                    "mapbox": {
                      "style": "light"
                    },
                    "paper_bgcolor": "white",
                    "plot_bgcolor": "#E5ECF6",
                    "polar": {
                      "angularaxis": {
                        "gridcolor": "white",
                        "linecolor": "white",
                        "ticks": ""
                      },
                      "bgcolor": "#E5ECF6",
                      "radialaxis": {
                        "gridcolor": "white",
                        "linecolor": "white",
                        "ticks": ""
                      }
                    },
                    "scene": {
                      "xaxis": {
                        "backgroundcolor": "#E5ECF6",
                        "gridcolor": "white",
                        "gridwidth": 2,
                        "linecolor": "white",
                        "showbackground": true,
                        "ticks": "",
                        "zerolinecolor": "white"
                      },
                      "yaxis": {
                        "backgroundcolor": "#E5ECF6",
                        "gridcolor": "white",
                        "gridwidth": 2,
                        "linecolor": "white",
                        "showbackground": true,
                        "ticks": "",
                        "zerolinecolor": "white"
                      },
                      "zaxis": {
                        "backgroundcolor": "#E5ECF6",
                        "gridcolor": "white",
                        "gridwidth": 2,
                        "linecolor": "white",
                        "showbackground": true,
                        "ticks": "",
                        "zerolinecolor": "white"
                      }
                    },
                    "shapedefaults": {
                      "line": {
                        "color": "#2a3f5f"
                      }
                    },
                    "ternary": {
                      "aaxis": {
                        "gridcolor": "white",
                        "linecolor": "white",
                        "ticks": ""
                      },
                      "baxis": {
                        "gridcolor": "white",
                        "linecolor": "white",
                        "ticks": ""
                      },
                      "bgcolor": "#E5ECF6",
                      "caxis": {
                        "gridcolor": "white",
                        "linecolor": "white",
                        "ticks": ""
                      }
                    },
                    "title": {
                      "x": 0.05
                    },
                    "xaxis": {
                      "automargin": true,
                      "gridcolor": "white",
                      "linecolor": "white",
                      "ticks": "",
                      "title": {
                        "standoff": 15
                      },
                      "zerolinecolor": "white",
                      "zerolinewidth": 2
                    },
                    "yaxis": {
                      "automargin": true,
                      "gridcolor": "white",
                      "linecolor": "white",
                      "ticks": "",
                      "title": {
                        "standoff": 15
                      },
                      "zerolinecolor": "white",
                      "zerolinewidth": 2
                    }
                  }
                },
                "title": {
                  "text": "PCA transformed data"
                },
                "xaxis": {
                  "anchor": "y",
                  "domain": [
                    0,
                    1
                  ],
                  "title": {
                    "text": "PC1"
                  }
                },
                "yaxis": {
                  "anchor": "x",
                  "domain": [
                    0,
                    1
                  ],
                  "title": {
                    "text": "PC2"
                  }
                }
              }
            }
          },
          "metadata": {},
          "output_type": "display_data"
        }
      ],
      "source": [
        "# Create a scatter plot using Plotly to visualize the PCA-transformed data.\n",
        "fig = px.scatter(x=X_transformed[:,0], y=X_transformed[:,1], color=y)\n",
        "fig.update_layout(\n",
        "    title=\"PCA transformed data\",\n",
        "    xaxis_title=\"PC1\",\n",
        "    yaxis_title=\"PC2\"\n",
        ")\n",
        "fig.show()"
      ]
    }
  ],
  "metadata": {
    "colab": {
      "provenance": []
    },
    "kaggle": {
      "accelerator": "none",
      "dataSources": [
        {
          "datasetId": 1829286,
          "sourceId": 2984728,
          "sourceType": "datasetVersion"
        }
      ],
      "dockerImageVersionId": 30407,
      "isGpuEnabled": false,
      "isInternetEnabled": true,
      "language": "python",
      "sourceType": "notebook"
    },
    "kernelspec": {
      "display_name": "Python 3",
      "language": "python",
      "name": "python3"
    },
    "language_info": {
      "codemirror_mode": {
        "name": "ipython",
        "version": 3
      },
      "file_extension": ".py",
      "mimetype": "text/x-python",
      "name": "python",
      "nbconvert_exporter": "python",
      "pygments_lexer": "ipython3",
      "version": "3.9.7"
    }
  },
  "nbformat": 4,
  "nbformat_minor": 0
}
