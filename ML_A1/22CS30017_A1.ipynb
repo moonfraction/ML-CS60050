{
  "cells": [
    {
      "cell_type": "markdown",
      "metadata": {
        "id": "emjAQ_34SozP",
        "tags": []
      },
      "source": [
        "# Programming Assignment 1"
      ]
    },
    {
      "cell_type": "markdown",
      "metadata": {
        "id": "tKkKCHwsSozQ"
      },
      "source": [
        "In this programming assignment, you will implement a linear regression model and a logistic regression model.\n",
        "\n",
        "In Part 1, you have to implement a linear regression model to predict the price of a house based on various input features.\n",
        "\n",
        "In Part 2, you have to implement a logistic regression model to predict the species of a grain using various morphological features.\n",
        "\n",
        "The assignment zip file (ML_Assignment_1.zip) contains 4 datasets which will be used in this assignment.\n",
        "\n",
        "You have to write your code in this jupyter notebook and submit the solved jupyter notebook with the file name \\<Roll_No\\>_A1.ipynb for evaluation. You have to enter your code only in those cells which are marked as ```## CODE REQUIRED ##```, and you have to write your code only between ```### START CODE HERE ###``` and ```### END CODE HERE ###``` comments."
      ]
    },
    {
      "cell_type": "markdown",
      "metadata": {
        "id": "jHPf8pHpSozR"
      },
      "source": [
        "## Part 1: Linear Regression\n",
        "\n",
        "### Problem Statement  \n",
        "A real estate company is building a machine learning model to determine the price of a house. The model will take various information regarding a house as input features and predict the price per unit area. They decided to use the linear regression as the machine learning model. Your task is to help the company to build the model.\n",
        "Given various features of a house, you will create a linear regression model to predict the price of the house.\n",
        "\n",
        "### Data Description\n",
        "\n",
        "**For Even Roll Number Students:**\n",
        "\n",
        "Dataset Filename: Taiwan_House.csv\n",
        "\n",
        "Attributes Information:\n",
        "1. Transaction date\n",
        "2. House age\n",
        "3. Distance to the nearest MRT station\n",
        "4. Number of convenience stores\n",
        "5. Latitude\n",
        "6. Longitude\n",
        "\n",
        "Target variable: house price of unit area\n",
        "\n",
        "**For Odd Roll Number Students:**\n",
        "\n",
        "Dataset Filename: Boston_House.csv\n",
        "\n",
        "Attributes Information:\n",
        "1. CRIM: per capita crime rate by town\n",
        "2. ZN: proportion of residential land zoned for lots over 25,000 sq.ft.\n",
        "3. INDUS: proportion of non-­retail business acres per town\n",
        "4. CHAS: Charles River dummy variable (= 1 if tract bounds river; 0 otherwise)\n",
        "5. NOX: nitric oxides concentration (parts per 10 million)\n",
        "6. RM: average number of rooms per dwelling\n",
        "7. AGE: proportion of owner­occupied units built prior to 1940\n",
        "8. DIS: weighted distances to five Boston employment centres\n",
        "9. RAD: index of accessibility to radial highways\n",
        "10. TAX: full-­value property-­tax rate per $10,000\n",
        "\n",
        "11. PTRATIO: pupil-­teacher ratio by town\n",
        "12. B: 1000(Bk ­- 0.63)^2 where Bk is the proportion of blacks by town\n",
        "13. LSTAT: % lower status of the population\n",
        "\n",
        "Target Variable: MEDV: Median value of owner-­occupied homes in $1000's\n",
        "\n",
        "\n",
        "These are the following steps or functions that you have to complete to create and train the linear regression model:\n",
        "1. Reading the data\n",
        "2. Computing the loss function\n",
        "3. Computing the gradient of the loss\n",
        "4. Training the model using Batch Gradient Descent\n"
      ]
    },
    {
      "cell_type": "code",
      "execution_count": 105,
      "metadata": {
        "id": "rJDNL8y8SozR",
        "tags": []
      },
      "outputs": [],
      "source": [
        "import numpy as np\n",
        "import pandas as pd\n",
        "import matplotlib.pyplot as plt\n",
        "import copy\n",
        "import math\n",
        "import random"
      ]
    },
    {
      "cell_type": "code",
      "execution_count": null,
      "metadata": {},
      "outputs": [],
      "source": []
    },
    {
      "cell_type": "markdown",
      "metadata": {
        "id": "S5ExYIXiSozS"
      },
      "source": [
        "### 1.1. Reading the data"
      ]
    },
    {
      "cell_type": "markdown",
      "metadata": {
        "id": "FgnxuEDkSozS"
      },
      "source": [
        "In the following function ```load_data```, you have to read the data from the file and store the data into a pandas dataframe. Then you have to create two numpy arrays $X$ and $y$ from the dataframe:\n",
        "\n",
        "+ $X$: Input data of the shape (number of samples, number of input features)\n",
        "+ $y$: Target variable of the shape (number of samples,)\n"
      ]
    },
    {
      "cell_type": "code",
      "execution_count": 106,
      "metadata": {
        "id": "DEal5SFmSozS",
        "tags": []
      },
      "outputs": [
        {
          "name": "stdout",
          "output_type": "stream",
          "text": [
            "Shape of X:  (506, 13) Shape of y:  (506,)\n"
          ]
        }
      ],
      "source": [
        "## CODE REQUIRED ##\n",
        "\n",
        "def load_data(filepath):\n",
        "    \"\"\"\n",
        "    This function loads the data into a pandas dataframe and coverts it into X and y numpy arrays\n",
        "\n",
        "    Args:\n",
        "        filepath: File path as a string\n",
        "    Returns:\n",
        "        X: Input data of the shape (# of samples, # of input features)\n",
        "        y: Target variable of the shape (# of sample,)\n",
        "    \"\"\"\n",
        "\n",
        "    ### START CODE HERE ###\n",
        "    # Load the data from the file\n",
        "    data = pd.read_csv(filepath)\n",
        "\n",
        "    # Extract the input features and target variable\n",
        "    X = data.iloc[:, :-1].values\n",
        "    y = data.iloc[:, -1].values\n",
        "    #covert to numpy array\n",
        "    X = np.array(X)\n",
        "    y = np.array(y)\n",
        "    ### END CODE HERE ###\n",
        "\n",
        "    return X,y\n",
        "\n",
        "filepath = None\n",
        "### START CODE HERE ###\n",
        "## set the file path\n",
        "filepath = \"./Boston_House.csv\"\n",
        "\n",
        "### END CODE HERE ###\n",
        "X, y = load_data(filepath)\n",
        "\n",
        "print(\"Shape of X: \",X.shape, \"Shape of y: \",y.shape)"
      ]
    },
    {
      "cell_type": "markdown",
      "metadata": {
        "id": "se3Qrch5PoIO"
      },
      "source": [
        "We will not use all the features from ```X```.\n",
        "\n",
        "**For Even Roll Number Students:**\n",
        "Set the last two digits of your roll number as the random seed and pick a number ``r`` between 3 and 6 (both inclusive) randomly. Use the first ```r``` features of the numpy array ```X```.\n",
        "\n",
        "**For Odd Roll Number Students:**\n",
        "Set the last two digits of your roll number as the random seed and pick a number ``r`` between 9 and 13 (both inclusive) randomly. Use the first ```r``` features of the numpy array ```X```.\n"
      ]
    },
    {
      "cell_type": "code",
      "execution_count": 107,
      "metadata": {
        "id": "mnRd0p8LtRJ5"
      },
      "outputs": [
        {
          "name": "stdout",
          "output_type": "stream",
          "text": [
            "Shape of X:  (506, 13) Shape of y:  (506,)\n"
          ]
        }
      ],
      "source": [
        "## CODE REQUIRED ##\n",
        "\n",
        "def random_feature_selection(X):\n",
        "    \"\"\"\n",
        "    For Even Roll Number Students: Set the last two digits of your roll number as the random seed and pick a number r\n",
        "    between 3 and 6 randomly. Use the first ```r``` features of the numpy array X.\n",
        "    For Odd Roll Number Students: Set the last two digits of your roll number as the random seed and pick a number r\n",
        "    between 9 and 13 randomly. Use the first ```r``` features of the numpy array X.\n",
        "    Args:\n",
        "        X: Input data of the shape (# of samples, # of input features)\n",
        "    Returns:\n",
        "        X_new: New input data of the shape (# of samples, r) containg only the first r features from X\n",
        "    \"\"\"\n",
        "\n",
        "    X_new = None\n",
        "\n",
        "    ### START CODE HERE ###\n",
        "\n",
        "    # Set the random seed\n",
        "    random.seed(17)\n",
        "\n",
        "    # Generate a random number\n",
        "    r = random.randint(9, 13)\n",
        "\n",
        "    # Select the first r features of the input data\n",
        "    X_new = X[:, :r]\n",
        "    ### END CODE HERE ###\n",
        "\n",
        "    return X_new\n",
        "\n",
        "X = random_feature_selection(X)\n",
        "print(\"Shape of X: \",X.shape, \"Shape of y: \",y.shape)"
      ]
    },
    {
      "cell_type": "markdown",
      "metadata": {
        "id": "4FAc8UixtqLS"
      },
      "source": [
        "We need to pre-process the data. We are using min-max scaler to scale the input data ($X$).\n",
        "\n",
        "After that, we split the data (```X``` and ```y```) into a training dataset (```X_train``` and ```y_train```) and test dataset (```X_test``` and ```y_test```)."
      ]
    },
    {
      "cell_type": "code",
      "execution_count": 108,
      "metadata": {
        "id": "LLmD1I3-SozT",
        "tags": []
      },
      "outputs": [
        {
          "name": "stdout",
          "output_type": "stream",
          "text": [
            "Shape of X_train:  (379, 13) Shape of y_train:  (379,)\n",
            "Shape of X_test:  (127, 13) Shape of y_test:  (127,)\n"
          ]
        }
      ],
      "source": [
        "## Data scaling and train-test split\n",
        "\n",
        "def train_test_split(X, y, test_size=0.25, random_state=None):\n",
        "    if random_state is not None:\n",
        "        np.random.seed(random_state)\n",
        "    indices = np.arange(X.shape[0])\n",
        "    np.random.shuffle(indices)\n",
        "\n",
        "    split_index = int(X.shape[0] * (1 - test_size))\n",
        "\n",
        "    train_indices = indices[:split_index]\n",
        "    test_indices = indices[split_index:]\n",
        "\n",
        "    X_train = X[train_indices]\n",
        "    X_test = X[test_indices]\n",
        "    y_train = y[train_indices]\n",
        "    y_test = y[test_indices]\n",
        "\n",
        "    return X_train, X_test, y_train, y_test\n",
        "\n",
        "def min_max_scaler(X, feature_range=(0, 1)):\n",
        "    X_min = np.min(X, axis=0)\n",
        "    X_max = np.max(X, axis=0)\n",
        "\n",
        "    X_scaled = (X-X_min)/(X_max-X_min)\n",
        "\n",
        "    return X_scaled\n",
        "\n",
        "\n",
        "X = min_max_scaler(X)\n",
        "X_train, X_test, y_train, y_test = train_test_split(X, y, test_size=0.25, random_state=42)\n",
        "print(\"Shape of X_train: \",X_train.shape, \"Shape of y_train: \",y_train.shape)\n",
        "print(\"Shape of X_test: \",X_test.shape, \"Shape of y_test: \",y_test.shape)"
      ]
    },
    {
      "cell_type": "markdown",
      "metadata": {
        "id": "xrFEUV2-SozU"
      },
      "source": [
        "### 1.2. Computing the Loss Function"
      ]
    },
    {
      "cell_type": "markdown",
      "metadata": {
        "id": "I1BC0TPCSozU"
      },
      "source": [
        "In linear regression, the model parameters are:\n",
        "\n",
        "+ $w$: Parameters of the linear regression model (excluding the bias) of the shape (1, number of features)\n",
        "\n",
        "+ $b$: Bias parameter (scalar) of the linear regression model\n",
        "\n",
        "Both $w$ and $b$ are numpy arrays.\n",
        "\n",
        "Given the model parameters $w$ and $b$, the prediction for an input sample $X^i$ is:\n",
        "$$h_{w,b}(X^i) = w \\cdot X^i + b$$\n",
        "where $X^i$ is the $i^{th}$ training sample with shape (number of features,1)\n",
        "\n",
        "For linear regression, you have to implement and compute Mean Squarred Error loss fucntion:\n",
        "$$ L_{w,b}(X) = \\sum_{i=1}^{m}(y^i - h_{w,b}(X^i))^2 $$\n",
        "where $y^i$ is the true target value for the $i^{th}$ sample and $h_{w,b}(X^i)$ is the predicted value for the $i^{th}$ sample using the parameters $w$ and $b$.\n",
        "\n",
        "$w$ is the list of parameters excluding the bias and $b$ is the bias term."
      ]
    },
    {
      "cell_type": "code",
      "execution_count": 109,
      "metadata": {
        "id": "t6GqZMlYSozV",
        "tags": []
      },
      "outputs": [],
      "source": [
        "## CODE REQUIRED ##\n",
        "\n",
        "def loss_function(X, y, w, b):\n",
        "    \"\"\"\n",
        "    Computes the cost function for linear regression.\n",
        "\n",
        "    Args:\n",
        "        X: Input data of the shape (# of training samples, # of input features)\n",
        "        y: Target variable of the shape (# of training sample,)\n",
        "        w: Parameters of the linear regression model (excluding the bias) of the shape (1, number of features)\n",
        "        b: Bias parameter (scalar) of the linear regression model\n",
        "\n",
        "    Returns\n",
        "        loss: The loss function value of using w and b as the parameters to fit the data points in X and y\n",
        "    \"\"\"\n",
        "    # number of training examples\n",
        "    m = X.shape[0]\n",
        "\n",
        "    ### START CODE HERE ###\n",
        "    # Compute the loss\n",
        "    y_pred = np.dot(X, w.T) + b\n",
        "    \n",
        "    loss = np.sum((y_pred - y) ** 2)  # sum of squared errors: as mentioned in the text\n",
        "    ### END CODE HERE ###\n",
        "\n",
        "    return loss"
      ]
    },
    {
      "cell_type": "markdown",
      "metadata": {
        "id": "l0h7jhxGSozV"
      },
      "source": [
        "### 1.3. Comptuing the Gradient of the Loss\n",
        "\n",
        "In this following function ```compute_gradient```, you have to compute the gradients $\\frac{\\partial L}{\\partial w}$ and $\\frac{\\partial L}{\\partial b}$ of the loss $L$ w.r.t. $w$ and $b$. More specifically, you have to iterate over every training example and compute the gradients of the loss for that training example. Finally, aggregate the gradient values for all the training examples and take the average. The gradients can be computed as:\n",
        "$$\\frac{\\partial L}{\\partial w} = \\frac{1}{m} \\sum_{i=1}^m (h_{w,b}(X^i)-y^i)X^i$$\n",
        "\n",
        "$$\\frac{\\partial L}{\\partial b} = \\frac{1}{m} \\sum_{i=1}^{m} (h_{w,b}(X^i)-y^i)$$\n"
      ]
    },
    {
      "cell_type": "code",
      "execution_count": 110,
      "metadata": {
        "id": "do-IiCTZSozV",
        "tags": []
      },
      "outputs": [],
      "source": [
        "## CODE REQUIRED ##\n",
        "\n",
        "def compute_gradient(X, y, w, b):\n",
        "   \"\"\"\n",
        "   Computes the gradient values\n",
        "   Args:\n",
        "      X: Input data of the shape (# of training samples, # of input features)\n",
        "      y: Target variable of the shape (# of training sample,)\n",
        "      w: Parameters of the linear regression model (excluding the bias) of the shape (1, number of features)\n",
        "      b: Bias parameter of the linear regression model of the shape (1,1) or a scaler\n",
        "   Returns:\n",
        "      dL_dw : The gradient of the cost w.r.t. the parameters w with shape same as w\n",
        "      dL_db : The gradient of the cost w.r.t. the parameter b with shape same as b\n",
        "   \"\"\"\n",
        "\n",
        "   # Number of training examples\n",
        "   m = X.shape[0]\n",
        "\n",
        "   dL_dw = None\n",
        "   dL_db = None\n",
        "\n",
        "   ### START CODE HERE ###\n",
        "   # Compute the gradients\n",
        "   y_pred = np.dot(X, w.T) + b\n",
        "   dL_dw = np.dot((y_pred - y), X) / m\n",
        "   dL_db = np.sum(y_pred - y) / m\n",
        "   \n",
        "   ### END CODE HERE ###\n",
        "   return dL_dw, dL_db"
      ]
    },
    {
      "cell_type": "markdown",
      "metadata": {
        "id": "uYL1jWaZSozV"
      },
      "source": [
        "### 1.4. Training the Model using Batch Gradient Descent"
      ]
    },
    {
      "cell_type": "markdown",
      "metadata": {
        "id": "2vwyRzWqSozV"
      },
      "source": [
        "Finally, you have to implement the batch gradient descent algorithm to train and learn the parameters of the linear regression model. You have to use ```loss_function``` and ```compute_gradient``` functions that you have implemented earlier in this assignment.\n",
        "\n",
        "In this ```batch_gradient_descent``` function, you have to compute the gradient for the training samples and update the parameters $w$ and $b$ in every iteration:\n",
        "\n",
        "+ $w \\leftarrow w - \\alpha \\frac{\\partial L}{\\partial w}$\n",
        "\n",
        "+ $b \\leftarrow b - \\alpha \\frac{\\partial L}{\\partial b}$\n",
        "\n",
        "Additionally, you have compute the loss function values in every iteration and store it in the list variable ```loss_hist``` and print the loss value after every 100 iterations during the training process."
      ]
    },
    {
      "cell_type": "code",
      "execution_count": 111,
      "metadata": {
        "id": "UHKldb3hSozV",
        "tags": []
      },
      "outputs": [],
      "source": [
        "## CODE REQUIRED ##\n",
        "\n",
        "def batch_gradient_descent(X, y, w_initial, b_initial, alpha, num_iters):\n",
        "    \"\"\"\n",
        "    Batch gradient descent to learn the parameters (w and b) of the linear regression model and to print loss values\n",
        "    every 100 iterations\n",
        "\n",
        "    Args:\n",
        "        X: Input data of the shape (# of training samples, # of input features)\n",
        "        y: Target variable of the shape (# of training sample,)\n",
        "        w_initial: Initial parameters of the linear regression model (excluding the bias) of the shape (1, number of features)\n",
        "        b_initial: Initial bias parameter (scalar) of the linear regression model\n",
        "        alpha: Learning rate\n",
        "        num_iters: number of iterations\n",
        "    Returns\n",
        "        w: Updated values of parameters of the model after training\n",
        "        b: Updated bias of the model after training\n",
        "        loss_hist: List of loss values for every iteration\n",
        "    \"\"\"\n",
        "\n",
        "    # number of training examples\n",
        "    m = X.shape[0]\n",
        "\n",
        "    # to store loss values for every iteation as a list and print loss value after every 100 iterations\n",
        "    loss_hist = []\n",
        "\n",
        "    # Initialize parameters\n",
        "    w = copy.deepcopy(w_initial) ## deepcopy is used so that the updates do not change the initial variable values\n",
        "    b = b_initial\n",
        "\n",
        "    ### START CODE HERE ###\n",
        "    # Perform batch gradient descent\n",
        "    for i in range(num_iters):\n",
        "        dL_dw, dL_db = compute_gradient(X, y, w, b)\n",
        "        w = w - alpha * dL_dw\n",
        "        b = b - alpha * dL_db\n",
        "\n",
        "        # Compute the loss and store it in a list\n",
        "        loss = loss_function(X, y, w, b)\n",
        "        loss_hist.append(loss)\n",
        "\n",
        "        # Print the loss after every 100 iterations\n",
        "        if i % 100 == 0:\n",
        "            print(f'Loss after iteration {i}: {loss}')\n",
        "\n",
        "    ### END CODE HERE ###\n",
        "\n",
        "    return w, b, loss_hist"
      ]
    },
    {
      "cell_type": "markdown",
      "metadata": {
        "id": "y0h3DUMwNocp"
      },
      "source": [
        "Now you have to intialize the model parameters ($w$ and $b$) and learning rate (```alpha```). The learning rate ```alpha``` has to be randomly initialized between 0.0001 and 0.001. For the learning rate, you have to first set the last two digits of your roll number as the random seed using ```random.seed()``` function."
      ]
    },
    {
      "cell_type": "code",
      "execution_count": 112,
      "metadata": {
        "id": "Xd8QFReNDyGs"
      },
      "outputs": [],
      "source": [
        "## CODE REQUIRED ##\n",
        "\n",
        "## set the last two digits of your roll number as the random seed\n",
        "random_seed = None\n",
        "### START CODE HERE ###\n",
        "random_seed = 17\n",
        "### END CODE HERE ###\n",
        "np.random.seed(random_seed)\n",
        "\n",
        "def initialize_parameters():\n",
        "    \"\"\"\n",
        "    This function randomly initializes the model parameters (w and b) and the hyperparameter alpha\n",
        "    Initial w and b should be randomly sampled from a normal distribution with mean 0\n",
        "    alpha should be randomly initialized between 0.0001 and 0.001 by using last two digits of your roll number as the random seed\n",
        "    Args:\n",
        "        None\n",
        "    Returns:\n",
        "        initial_w: Initial parameters of the linear regression model (excluding the bias) of the shape (1, number of features)\n",
        "        initial_b: Initial bias parameter (scalar) of the linear regression model\n",
        "        alpha: Learning rate\n",
        "    \"\"\"\n",
        "\n",
        "    initial_w = None\n",
        "    initial_b = None\n",
        "    alpha = None\n",
        "\n",
        "    ### START CODE HERE ###\n",
        "\n",
        "    # Generate a random number\n",
        "    alpha = random.uniform(0.0001, 0.001)\n",
        "\n",
        "    # Initialize the parameters\n",
        "    initial_w = np.random.normal(0, 1, X_train.shape[1])\n",
        "    initial_b = np.random.normal(0, 1, 1)\n",
        "\n",
        "    ### END CODE HERE ###\n",
        "\n",
        "    return initial_w,initial_b,alpha\n"
      ]
    },
    {
      "cell_type": "markdown",
      "metadata": {
        "id": "l7nt5VdORUEu"
      },
      "source": [
        "In the next cell, the model is trained using batch gradient descent algorithm for ```num_iters=10000``` iterations. You can change the number of iterations to check any improvements in the performance."
      ]
    },
    {
      "cell_type": "code",
      "execution_count": 113,
      "metadata": {
        "id": "9rAYubtASozV",
        "tags": []
      },
      "outputs": [
        {
          "name": "stdout",
          "output_type": "stream",
          "text": [
            "Loss after iteration 0: 179782.07720855635\n",
            "Loss after iteration 100: 139536.66696639813\n",
            "Loss after iteration 200: 111138.3426732551\n",
            "Loss after iteration 300: 91034.12583378269\n",
            "Loss after iteration 400: 76738.7078940222\n",
            "Loss after iteration 500: 66513.54461627353\n",
            "Loss after iteration 600: 59142.40625406042\n",
            "Loss after iteration 700: 53774.39136791848\n",
            "Loss after iteration 800: 49814.12643081426\n",
            "Loss after iteration 900: 46844.968379903075\n",
            "Loss after iteration 1000: 44575.29027431927\n",
            "Loss after iteration 1100: 42800.91187101422\n",
            "Loss after iteration 1200: 41378.82237385803\n",
            "Loss after iteration 1300: 40208.80122304916\n",
            "Loss after iteration 1400: 39220.56298196105\n",
            "Loss after iteration 1500: 38364.76592535977\n",
            "Loss after iteration 1600: 37606.723005653315\n",
            "Loss after iteration 1700: 36922.002937952784\n",
            "Loss after iteration 1800: 36293.35328902461\n",
            "Loss after iteration 1900: 35708.548215930474\n",
            "Loss after iteration 2000: 35158.8829345323\n",
            "Loss after iteration 2100: 34638.120533479305\n",
            "Loss after iteration 2200: 34141.755176104714\n",
            "Loss after iteration 2300: 33666.49659785904\n",
            "Loss after iteration 2400: 33209.90938906872\n",
            "Loss after iteration 2500: 32770.16054390474\n",
            "Loss after iteration 2600: 32345.84273873036\n",
            "Loss after iteration 2700: 31935.85058256781\n",
            "Loss after iteration 2800: 31539.293922509107\n",
            "Loss after iteration 2900: 31155.437071030916\n",
            "Loss after iteration 3000: 30783.656168324\n",
            "Loss after iteration 3100: 30423.409233135735\n",
            "Loss after iteration 3200: 30074.215092555598\n",
            "Loss after iteration 3300: 29735.638526090683\n",
            "Loss after iteration 3400: 29407.279760166017\n",
            "Loss after iteration 3500: 29088.76700928156\n",
            "Loss after iteration 3600: 28779.75115180734\n",
            "Loss after iteration 3700: 28479.90190240286\n",
            "Loss after iteration 3800: 28188.905034696443\n",
            "Loss after iteration 3900: 27906.460341909224\n",
            "Loss after iteration 4000: 27632.28011686914\n",
            "Loss after iteration 4100: 27366.087998443443\n",
            "Loss after iteration 4200: 27107.61807729149\n",
            "Loss after iteration 4300: 26856.614185929007\n",
            "Loss after iteration 4400: 26612.829320541838\n",
            "Loss after iteration 4500: 26376.025157690747\n",
            "Loss after iteration 4600: 26145.97164003551\n",
            "Loss after iteration 4700: 25922.44661289384\n",
            "Loss after iteration 4800: 25705.235498830516\n",
            "Loss after iteration 4900: 25494.13100123757\n",
            "Loss after iteration 5000: 25288.93283050311\n",
            "Loss after iteration 5100: 25089.44744821312\n",
            "Loss after iteration 5200: 24895.487826124692\n",
            "Loss after iteration 5300: 24706.873217557142\n",
            "Loss after iteration 5400: 24523.428939484766\n",
            "Loss after iteration 5500: 24344.986164063022\n",
            "Loss after iteration 5600: 24171.381718635756\n",
            "Loss after iteration 5700: 24002.457893494146\n",
            "Loss after iteration 5800: 23838.062256815905\n",
            "Loss after iteration 5900: 23678.047476326305\n",
            "Loss after iteration 6000: 23522.271147302992\n",
            "Loss after iteration 6100: 23370.595626605165\n",
            "Loss after iteration 6200: 23222.887872450392\n",
            "Loss after iteration 6300: 23079.019289693835\n",
            "Loss after iteration 6400: 22938.865580388854\n",
            "Loss after iteration 6500: 22802.306599425927\n",
            "Loss after iteration 6600: 22669.2262150616\n",
            "Loss after iteration 6700: 22539.512174160736\n",
            "Loss after iteration 6800: 22413.055971985083\n",
            "Loss after iteration 6900: 22289.75272636918\n",
            "Loss after iteration 7000: 22169.501056132205\n",
            "Loss after iteration 7100: 22052.202963580305\n",
            "Loss after iteration 7200: 21937.76372096003\n",
            "Loss after iteration 7300: 21826.091760728603\n",
            "Loss after iteration 7400: 21717.09856951194\n",
            "Loss after iteration 7500: 21610.698585625672\n",
            "Loss after iteration 7600: 21506.809100039067\n",
            "Loss after iteration 7700: 21405.350160665854\n",
            "Loss after iteration 7800: 21306.24447986999\n",
            "Loss after iteration 7900: 21209.417345078058\n",
            "Loss after iteration 8000: 21114.79653239406\n",
            "Loss after iteration 8100: 21022.312223115427\n",
            "Loss after iteration 8200: 20931.896923052904\n",
            "Loss after iteration 8300: 20843.485384560034\n",
            "Loss after iteration 8400: 20757.014531181125\n",
            "Loss after iteration 8500: 20672.423384829905\n",
            "Loss after iteration 8600: 20589.652995413613\n",
            "Loss after iteration 8700: 20508.646372820614\n",
            "Loss after iteration 8800: 20429.34842119187\n",
            "Loss after iteration 8900: 20351.705875399857\n",
            "Loss after iteration 9000: 20275.66723966048\n",
            "Loss after iteration 9100: 20201.18272820657\n",
            "Loss after iteration 9200: 20128.20420795357\n",
            "Loss after iteration 9300: 20056.68514309053\n",
            "Loss after iteration 9400: 19986.580541531806\n",
            "Loss after iteration 9500: 19917.846903166825\n",
            "Loss after iteration 9600: 19850.44216984763\n",
            "Loss after iteration 9700: 19784.325677055847\n",
            "Loss after iteration 9800: 19719.458107192557\n",
            "Loss after iteration 9900: 19655.80144443666\n",
            "Updated w:  [-0.66973358  2.32747079 -0.75180393  2.53976879  0.3169138   9.54747428\n",
            "  1.24166781  3.08086994 -1.35493196 -2.21457822  2.58694068  9.57797418\n",
            " -4.51044163]\n",
            "Updated b:  [7.99842594]\n"
          ]
        }
      ],
      "source": [
        "# initialize the parameters and hyperparameter\n",
        "initial_w, initial_b, alpha = initialize_parameters()\n",
        "# print(\"Initial w: \",initial_w)\n",
        "# print(\"Initial b: \",initial_b)\n",
        "# print(\"Learning rate: \",alpha)\n",
        "# #shape of w\n",
        "# print(\"Shape of w: \",initial_w.shape)\n",
        "# print(\"Shape of b: \",initial_b.shape)\n",
        "\n",
        "# number of iterations\n",
        "num_iters = 10000\n",
        "\n",
        "w,b,loss_hist = batch_gradient_descent(X_train ,y_train, initial_w, initial_b, alpha, num_iters)\n",
        "print(\"Updated w: \",w)\n",
        "print(\"Updated b: \",b)"
      ]
    },
    {
      "cell_type": "markdown",
      "metadata": {
        "id": "sluek2LkSozW"
      },
      "source": [
        "### 1.5. Final Train Error and Test Error"
      ]
    },
    {
      "cell_type": "markdown",
      "metadata": {
        "id": "EH9oHC10fAlV"
      },
      "source": [
        "After the linear regression model is trained, we will compute the final train error and test error for the trained model."
      ]
    },
    {
      "cell_type": "code",
      "execution_count": 114,
      "metadata": {
        "id": "UIXb7sSvSozW",
        "tags": []
      },
      "outputs": [
        {
          "name": "stdout",
          "output_type": "stream",
          "text": [
            "Train Error:  19593.93806190125 , Test Error:  5898.01333613704\n"
          ]
        }
      ],
      "source": [
        "## Train and Test error computation\n",
        "\n",
        "train_error = loss_function(X_train,y_train,w,b)\n",
        "test_error = loss_function(X_test,y_test,w,b)\n",
        "print(\"Train Error: \",train_error, \", Test Error: \",test_error)"
      ]
    },
    {
      "cell_type": "markdown",
      "metadata": {
        "id": "eximd12PbAgC"
      },
      "source": [
        "### 1.6. Plotting the loss function"
      ]
    },
    {
      "cell_type": "markdown",
      "metadata": {
        "id": "meDwLCCIfOBo"
      },
      "source": [
        "We will plot the loss function values for every training iteration. If the model is trained properly, you will see that the loss function reduces as the training progesses and it converges at some point."
      ]
    },
    {
      "cell_type": "code",
      "execution_count": 115,
      "metadata": {
        "id": "DW4bue0oSozW"
      },
      "outputs": [
        {
          "data": {
            "image/png": "[encoded data removed]",
            "text/plain": [
              "<Figure size 640x480 with 1 Axes>"
            ]
          },
          "metadata": {},
          "output_type": "display_data"
        }
      ],
      "source": [
        "# PLotting the loss values for every training iterations\n",
        "\n",
        "loss_plot = [loss_hist[i] for i in range(len(loss_hist))]\n",
        "plt.xlabel(\"Iterations\")\n",
        "plt.ylabel(\"Loss function\")\n",
        "plt.plot(loss_plot) \n",
        "plt.show()"
      ]
    },
    {
      "cell_type": "markdown",
      "metadata": {
        "id": "BAVgq4HWCmDX"
      },
      "source": [
        "### 1.7 Experimenting with different values of the Hyperparemeters\n",
        "\n",
        "Previously, we randomly sampled the learning rate and the number of features to train the model. Now, you have to manually choose the number of features and the learning rate. Then, you have to train the model again on the manually choosen hyperparameters (number of features and learning rate). In the next cell, you have to manually choose the hyperparameters and write the code to train the model.\n",
        "\n",
        "After the model is trained, you have to compare the performance of the model with random chosen hyperparameters and manually chosen hyperparameters."
      ]
    },
    {
      "cell_type": "code",
      "execution_count": 116,
      "metadata": {
        "id": "K2QuEbE1Clxq"
      },
      "outputs": [
        {
          "name": "stdout",
          "output_type": "stream",
          "text": [
            "Loss after iteration 0: 178059.83455253675\n",
            "Loss after iteration 100: 145942.74977890332\n",
            "Loss after iteration 200: 121541.65920900897\n",
            "Loss after iteration 300: 102968.10142210335\n",
            "Loss after iteration 400: 88796.6985159673\n",
            "Loss after iteration 500: 77951.57639043608\n",
            "Loss after iteration 600: 69620.64316624065\n",
            "Loss after iteration 700: 63190.89285004244\n",
            "Loss after iteration 800: 58199.57729018149\n",
            "Loss after iteration 900: 54297.35433746009\n",
            "Loss after iteration 1000: 51220.47475473473\n",
            "Loss after iteration 1100: 48769.79090224839\n",
            "Loss after iteration 1200: 46794.913992622445\n",
            "Loss after iteration 1300: 45182.25710422346\n",
            "Loss after iteration 1400: 43846.01087702274\n",
            "Loss after iteration 1500: 42721.33258026537\n",
            "Loss after iteration 1600: 41759.205669814066\n",
            "Loss after iteration 1700: 40922.56010815351\n",
            "Loss after iteration 1800: 40183.34421560149\n",
            "Loss after iteration 1900: 39520.314667833765\n",
            "Loss after iteration 2000: 38917.36849816112\n",
            "Loss after iteration 2100: 38362.284165997706\n",
            "Loss after iteration 2200: 37845.77135936653\n",
            "Loss after iteration 2300: 37360.75380817353\n",
            "Loss after iteration 2400: 36901.82795793595\n",
            "Loss after iteration 2500: 36464.85437113276\n",
            "Loss after iteration 2600: 36046.64930269665\n",
            "Loss after iteration 2700: 35644.751880674456\n",
            "Loss after iteration 2800: 35257.24834919406\n",
            "Loss after iteration 2900: 34882.63937893707\n",
            "Loss after iteration 3000: 34519.73988285456\n",
            "Loss after iteration 3100: 34167.60336548774\n",
            "Loss after iteration 3200: 33825.46478946684\n",
            "Loss after iteration 3300: 33492.69741840994\n",
            "Loss after iteration 3400: 33168.780209153716\n",
            "Loss after iteration 3500: 32853.27316679418\n",
            "Loss after iteration 3600: 32545.798710397823\n",
            "Loss after iteration 3700: 32246.027576028988\n",
            "Loss after iteration 3800: 31953.668145090833\n",
            "Loss after iteration 3900: 31668.458358700045\n",
            "Loss after iteration 4000: 31390.15958464604\n",
            "Loss after iteration 4100: 31118.551958832188\n",
            "Loss after iteration 4200: 30853.43084034105\n",
            "Loss after iteration 4300: 30594.604107753865\n",
            "Loss after iteration 4400: 30341.890091138957\n",
            "Loss after iteration 4500: 30095.115984528842\n",
            "Loss after iteration 4600: 29854.11662174762\n",
            "Loss after iteration 4700: 29618.733527162687\n",
            "Loss after iteration 4800: 29388.814174604544\n",
            "Loss after iteration 4900: 29164.211404054346\n",
            "Loss after iteration 5000: 28944.78295804291\n",
            "Loss after iteration 5100: 28730.391109022446\n",
            "Loss after iteration 5200: 28520.902356004033\n",
            "Loss after iteration 5300: 28316.187174062336\n",
            "Loss after iteration 5400: 28116.119804315127\n",
            "Loss after iteration 5500: 27920.578075009435\n",
            "Loss after iteration 5600: 27729.443246629176\n",
            "Loss after iteration 5700: 27542.599875662174\n",
            "Loss after iteration 5800: 27359.935692965668\n",
            "Loss after iteration 5900: 27181.341493651642\n",
            "Loss after iteration 6000: 27006.711036155026\n",
            "Loss after iteration 6100: 26835.94094870796\n",
            "Loss after iteration 6200: 26668.93064186656\n",
            "Loss after iteration 6300: 26505.582226056024\n",
            "Loss after iteration 6400: 26345.80043334179\n",
            "Loss after iteration 6500: 26189.492542817003\n",
            "Loss after iteration 6600: 26036.568309134596\n",
            "Loss after iteration 6700: 25886.939893817165\n",
            "Loss after iteration 6800: 25740.52179905671\n",
            "Loss after iteration 6900: 25597.23080377664\n",
            "Loss after iteration 7000: 25456.985901774024\n",
            "Loss after iteration 7100: 25319.708241794553\n",
            "Loss after iteration 7200: 25185.32106941961\n",
            "Loss after iteration 7300: 25053.749670664514\n",
            "Loss after iteration 7400: 24924.921317202927\n",
            "Loss after iteration 7500: 24798.765213144256\n",
            "Loss after iteration 7600: 24675.212443300043\n",
            "Loss after iteration 7700: 24554.19592288271\n",
            "Loss after iteration 7800: 24435.65034858561\n",
            "Loss after iteration 7900: 24319.51215099779\n",
            "Loss after iteration 8000: 24205.719448310778\n",
            "Loss after iteration 8100: 24094.21200127709\n",
            "Loss after iteration 8200: 23984.931169383177\n",
            "Loss after iteration 8300: 23877.819868201183\n",
            "Loss after iteration 8400: 23772.82252788564\n",
            "Loss after iteration 8500: 23669.885052782836\n",
            "Loss after iteration 8600: 23568.954782121822\n",
            "Loss after iteration 8700: 23469.980451757125\n",
            "Loss after iteration 8800: 23372.91215693441\n",
            "Loss after iteration 8900: 23277.70131605115\n",
            "Loss after iteration 9000: 23184.30063538539\n",
            "Loss after iteration 9100: 23092.66407476641\n",
            "Loss after iteration 9200: 23002.746814161856\n",
            "Loss after iteration 9300: 22914.50522115684\n",
            "Loss after iteration 9400: 22827.896819300924\n",
            "Loss after iteration 9500: 22742.880257299796\n",
            "Loss after iteration 9600: 22659.415279029028\n",
            "Loss after iteration 9700: 22577.4626943479\n",
            "Loss after iteration 9800: 22496.98435069189\n",
            "Loss after iteration 9900: 22417.943105423074\n",
            "Train Error:  22341.07238370517 , Test Error:  6324.425852998014\n"
          ]
        },
        {
          "data": {
            "image/png": "[encoded data removed]",
            "text/plain": [
              "<Figure size 640x480 with 1 Axes>"
            ]
          },
          "metadata": {},
          "output_type": "display_data"
        }
      ],
      "source": [
        "## CODE REQUIRED ##\n",
        "\n",
        "\"\"\"\n",
        "Manually choose the hyperparameters (learning rate and number of features) and train the model.\n",
        "Then compare the performance with random chosen hyperparameters and manually chosen hyperparameters.\n",
        "\"\"\"\n",
        "\n",
        "### START CODE HERE ###\n",
        "# Manually choose the hyperparameters\n",
        "alpha = 0.0001\n",
        "num_features = 13\n",
        "\n",
        "\n",
        "# Select the first num_features of the input data\n",
        "X = X[:, :num_features]\n",
        "\n",
        "# Split the data into training and testing sets\n",
        "X_train, X_test, y_train, y_test = train_test_split(X, y, test_size=0.25, random_state=42)\n",
        "\n",
        "# Normalize the data\n",
        "X_train = min_max_scaler(X_train)\n",
        "X_test = min_max_scaler(X_test)\n",
        "\n",
        "# Initialize the parameters\n",
        "initial_w, initial_b, alpha = initialize_parameters()\n",
        "\n",
        "# Perform batch gradient descent\n",
        "w, b, loss_hist = batch_gradient_descent(X_train, y_train, initial_w, initial_b, alpha, num_iters)\n",
        "\n",
        "# Compute the train and test errors\n",
        "train_error = loss_function(X_train, y_train, w, b)\n",
        "test_error = loss_function(X_test, y_test, w, b)\n",
        "print(\"Train Error: \", train_error, \", Test Error: \", test_error)\n",
        "\n",
        "#plot the loss values\n",
        "loss_plot = [loss_hist[i] for i in range(len(loss_hist))]\n",
        "plt.xlabel(\"Iterations\")\n",
        "plt.ylabel(\"Loss function\")\n",
        "\n",
        "plt.plot(loss_plot)\n",
        "plt.show()\n",
        "\n",
        "### END CODE HERE ###"
      ]
    },
    {
      "cell_type": "markdown",
      "metadata": {
        "id": "XZ0CviUnZui0"
      },
      "source": [
        "## Part 2: Logistic Regression\n",
        "\n",
        "### Problem Statement\n",
        "A Food grain industry requires an efficient classification system to help in sorting food grain species. You have to develop a Logistic Regression model for this purpose.\n",
        " Given various features of a rice grain such as area, perimeter, axis lengths etc. as input features, the task is to build a logistic regression model to predict the species of the food grain.\n",
        "\n",
        "### Dataset Description\n",
        "\n",
        "**For Even Roll Number Students**\n",
        "\n",
        "Dataset Filename: Rice_Classification.csv\n",
        "\n",
        "Attribute Information:\n",
        "+ Area: Returns the number of pixels within the boundaries of the rice grain.\n",
        "+ Perimeter: Calculates the circumference by calculating the distance between pixels around the boundaries of the rice grain.\n",
        "+ Major Axis Length: The longest line that can be drawn on the rice grain, i.e. the main axis distance, gives.\n",
        "+ Minor Axis Length: The shortest line that can be drawn on the rice grain, i.e. the small axis distance, gives.\n",
        "+ Eccentricity: It measures how round the ellipse, which has the same moments as the rice grain, is.\n",
        "+ Convex Area: Returns the pixel count of the smallest convex shell of the region formed by the rice grain.\n",
        "+ Extent: Returns the ratio of the region formed by the rice grain to the bounding box pixels.\n",
        "\n",
        "Target Variable: Class: Cammeo and Osmancik\n",
        "\n",
        "**For Odd Roll Number Students**\n",
        "\n",
        "Dataset Filename: Pumpkin_Seeds_Dataset.csv\n",
        "\n",
        "Attribute Information:\n",
        "\n",
        "+ Area: Represents the number of pixels within the boundaries of the pumpkin seed.\n",
        "\n",
        "+ Perimeter: Calculates the circumference by measuring the distance between pixels around the boundary of the pumpkin seed.\n",
        "\n",
        "+ Major Axis Length: The longest line that can be drawn on the pumpkin seed, representing the main axis distance.\n",
        "\n",
        "+ Minor Axis Length: The shortest line that can be drawn on the pumpkin seed, representing the minor axis distance.\n",
        "\n",
        "+ Convex Area: Returns the pixel count of the smallest convex shell that can contain the pumpkin seed.\n",
        "\n",
        "+ Equivalent Diameter: Diameter of a circle with the same area as the pumpkin seed.\n",
        "\n",
        "+ Eccentricity: This measures how round the ellipse, which has the same moments as the pumpkin seed has.\n",
        "\n",
        "+ Solidity: This is the ratio of the area of the pumpkin seed to the area of its convex hull. It measures the extent to which the shape is convex.\n",
        "\n",
        "+ Extent: Returns the ratio of the area of the pumpkin seed to the area of its bounding box.\n",
        "\n",
        "+ Roundness: Measure of how closely the shape of the pumpkin seed approaches that of a circle.\n",
        "\n",
        "+ Aspect Ratio: Ratio of the major axis length to the minor axis length.\n",
        "\n",
        "+ Compactness: Measure of the shape's compactness, which is the shape's deviation from being a perfect circle. In essence, compactness quantifies how efficiently an object's area is packed within its perimeter.\n",
        "\n",
        "Target Variable: Class: Çerçevelik and Ürgüp Sivrisi\n",
        "\n",
        "\n",
        "\n",
        "These are the following steps or functions that you have to complete to create and train the linear regression model:\n",
        "1. Reading the data\n",
        "2. Creating the sigmoid function\n",
        "2. Computing the loss function\n",
        "3. Computing the gradient of the loss\n",
        "4. Training the model using Batch Gradient Descent"
      ]
    },
    {
      "cell_type": "code",
      "execution_count": 117,
      "metadata": {
        "id": "T27XOBZrRZ4M"
      },
      "outputs": [],
      "source": [
        "import numpy as np\n",
        "import pandas as pd\n",
        "import matplotlib.pyplot as plt\n",
        "from scipy.special import logsumexp\n",
        "import copy\n",
        "import math"
      ]
    },
    {
      "cell_type": "markdown",
      "metadata": {
        "id": "G3luUk4L0WO_"
      },
      "source": [
        "### 2.1. Reading the data\n",
        "\n",
        "In the function ```load_data```, you have to read data from the file, store it in a dataframe and split the data from the dataframe into two numpy arrays X and y.\n",
        "\n",
        "**X** : data of the input features\n",
        "\n",
        "**y**  : data of the class labels\n",
        "\n",
        "The class labels in **y** should be replaced with '0' and '1', for corresponding classes."
      ]
    },
    {
      "cell_type": "code",
      "execution_count": 118,
      "metadata": {
        "id": "7-RV0JgEZi1h"
      },
      "outputs": [
        {
          "name": "stdout",
          "output_type": "stream",
          "text": [
            "Shape of X:  (2500, 12) Shape of y:  (2500,)\n"
          ]
        }
      ],
      "source": [
        "## CODE REQUIRED ##\n",
        "\n",
        "def load_data(filepath):\n",
        "    \"\"\"\n",
        "    This function loads the data into a pandas dataframe and converts it into X and y numpy arrays\n",
        "    y should be a binary numpy array with values 0 and 1, for 2 different classes\n",
        "    Args:\n",
        "        filepath: File path as a string\n",
        "    Returns:\n",
        "        X: Input data of the shape (# of samples, # of input features)\n",
        "        y: Target variable of the shape (# of sample,) with values 0 and 1, for 2 different classes\n",
        "    \"\"\"\n",
        "\n",
        "    ### START CODE HERE ###\n",
        "\n",
        "    # Load the data from the file\n",
        "    data = pd.read_csv(filepath)\n",
        "    X = data.iloc[:, :-1].values\n",
        "    y = data.iloc[:, -1].values\n",
        "    \n",
        "    # Çerçevelik\n",
        "    y = np.where(y == 'Çerçevelik', 0, 1)\n",
        "\n",
        "    ### END CODE HERE ###\n",
        "\n",
        "    return X,y\n",
        "\n",
        "filepath = None\n",
        "### START CODE HERE ###\n",
        "## set the file path\n",
        "filepath = \"./Pumpkin_Seeds_Dataset.csv\"\n",
        "\n",
        "### END CODE HERE ###\n",
        "\n",
        "X, y = load_data(filepath)\n",
        "\n",
        "print(\"Shape of X: \",X.shape, \"Shape of y: \",y.shape)"
      ]
    },
    {
      "cell_type": "markdown",
      "metadata": {
        "id": "sLGPG1YU-C47"
      },
      "source": [
        "We will not use all the features from X.\n",
        "\n",
        "For Even Roll Number Students: Set the last two digits of your roll number as the random seed and pick a number r between 4 and 7 (both inclusive) randomly. Use the first r features of the numpy array X.\n",
        "\n",
        "For Odd Roll Number Students: Set the last two digits of your roll number as the random seed and pick a number r between 8 and 12 (both inclusive) randomly. Use the first r features of the numpy array X."
      ]
    },
    {
      "cell_type": "code",
      "execution_count": 119,
      "metadata": {
        "id": "JNsDb2Ae94s6"
      },
      "outputs": [
        {
          "name": "stdout",
          "output_type": "stream",
          "text": [
            "Shape of X:  (2500, 12) Shape of y:  (2500,)\n"
          ]
        }
      ],
      "source": [
        "## CODE REQUIRED ##\n",
        "\n",
        "def random_feature_selection(X):\n",
        "    \"\"\"\n",
        "\n",
        "    Args:\n",
        "        X: Input data of the shape (# of samples, # of input features)\n",
        "    Returns:\n",
        "        X_new: New input data of the shape (# of samples, r) containg only the first r features from X\n",
        "    \"\"\"\n",
        "\n",
        "    X_new = None\n",
        "\n",
        "    ### START CODE HERE ###\n",
        "    # Set the random seed\n",
        "    random.seed(17)\n",
        "\n",
        "    # Generate a random number\n",
        "    r = random.randint(8, 12)\n",
        "\n",
        "    # Select the first r features of the input data\n",
        "    X_new = X[:, :r]\n",
        "\n",
        "    ### END CODE HERE ###\n",
        "\n",
        "    return X_new\n",
        "\n",
        "X = random_feature_selection(X)\n",
        "print(\"Shape of X: \",X.shape, \"Shape of y: \",y.shape)"
      ]
    },
    {
      "cell_type": "markdown",
      "metadata": {
        "id": "t4u-qBe34wC9"
      },
      "source": [
        "We need to pre-process the data. We are using min-max scaler to scale the input data ($X$).\n",
        "\n",
        "After that, we split the data (```X``` and ```y```) into a training dataset (```X_train``` and ```y_train```) and test dataset (```X_test``` and ```y_test```)"
      ]
    },
    {
      "cell_type": "code",
      "execution_count": 120,
      "metadata": {
        "id": "YTO4etePa0i1"
      },
      "outputs": [
        {
          "name": "stdout",
          "output_type": "stream",
          "text": [
            "Shape of X_train:  (1875, 12) Shape of y_train:  (1875,)\n",
            "Shape of X_test:  (625, 12) Shape of y_test:  (625,)\n"
          ]
        }
      ],
      "source": [
        "## Data scaling and train-test split\n",
        "\n",
        "def train_test_split(X, y, test_size=0.25, random_state=None):\n",
        "    if random_state is not None:\n",
        "        np.random.seed(random_state)\n",
        "    indices = np.arange(X.shape[0])\n",
        "    np.random.shuffle(indices)\n",
        "\n",
        "    split_index = int(X.shape[0] * (1 - test_size))\n",
        "\n",
        "    train_indices = indices[:split_index]\n",
        "    test_indices = indices[split_index:]\n",
        "\n",
        "    X_train = X[train_indices]\n",
        "    X_test = X[test_indices]\n",
        "    y_train = y[train_indices]\n",
        "    y_test = y[test_indices]\n",
        "\n",
        "    return X_train, X_test, y_train, y_test\n",
        "\n",
        "def min_max_scaler(X, feature_range=(0, 1)):\n",
        "    X_min = np.min(X, axis=0)\n",
        "    X_max = np.max(X, axis=0)\n",
        "\n",
        "    X_scaled = (X-X_min)/(X_max-X_min)\n",
        "\n",
        "    return X_scaled\n",
        "\n",
        "# Feature normalization\n",
        "X = min_max_scaler(X)\n",
        "X_train, X_test, y_train, y_test = train_test_split(X, y, test_size=0.25, random_state=42)\n",
        "print(\"Shape of X_train: \",X_train.shape, \"Shape of y_train: \",y_train.shape)\n",
        "print(\"Shape of X_test: \",X_test.shape, \"Shape of y_test: \",y_test.shape)"
      ]
    },
    {
      "cell_type": "markdown",
      "metadata": {
        "id": "K8SbmjD945Ra"
      },
      "source": [
        "### 2.2. Creating the Sigmoid Function\n",
        "Recall that for logistic regression, the model is represented as\n",
        "\n",
        "$$ f_{\\mathbf{w},b}(x) = g(\\mathbf{w}\\cdot \\mathbf{x} + b)$$\n",
        "where function $g$ is the sigmoid function. The sigmoid function is defined as:\n",
        "\n",
        "$$g(z) = \\frac{1}{1+e^{-z}}$$\n",
        "\n",
        "\n",
        "The function below returns the value of the sigmoid function for an input numpy array z. If the numpy array 'z' stores multiple numbers, we'd like to apply the sigmoid function to each value in the input array"
      ]
    },
    {
      "cell_type": "code",
      "execution_count": 121,
      "metadata": {
        "id": "G44B1vITbBpE"
      },
      "outputs": [],
      "source": [
        "## CODE REQUIRED ##\n",
        "\n",
        "def sigmoid(z):\n",
        "    \"\"\"\n",
        "    Compute the sigmoid of z\n",
        "\n",
        "    Args:\n",
        "        z: A scalar or numpy array of any size.\n",
        "\n",
        "    Returns:\n",
        "        g: sigmoid(z)\n",
        "    \"\"\"\n",
        "    g = None\n",
        "    z = z.astype(float)\n",
        "    ### START CODE HERE ###\n",
        "    g = 1 / (1 + np.exp(-z))\n",
        "    \n",
        "    ### END SOLUTION ###\n",
        "\n",
        "    return g"
      ]
    },
    {
      "cell_type": "markdown",
      "metadata": {
        "id": "kV-Ygf1R8HMl"
      },
      "source": [
        "### 2.3. Computing the loss Function\n",
        "\n",
        "Recall that for logistic regression, the cost function is of the form\n",
        "\n",
        "$$ J(\\mathbf{w},b) = \\frac{1}{m}\\sum_{i=0}^{m-1} \\left[ loss(f_{\\mathbf{w},b}(\\mathbf{x}^{(i)}), y^{(i)}) \\right] \\tag{1}$$\n",
        "\n",
        "where\n",
        "* m is the number of training examples in the dataset\n",
        "\n",
        "\n",
        "* $loss(f_{\\mathbf{w},b}(\\mathbf{x}^{(i)}), y^{(i)})$ is the cost for a single data point, which is -\n",
        "\n",
        "    $$loss(f_{\\mathbf{w},b}(\\mathbf{x}^{(i)}), y^{(i)}) = (-y^{(i)} \\log\\left(f_{\\mathbf{w},b}\\left( \\mathbf{x}^{(i)} \\right) \\right) - \\left( 1 - y^{(i)}\\right) \\log \\left( 1 - f_{\\mathbf{w},b}\\left( \\mathbf{x}^{(i)} \\right) \\right) \\tag{2}$$\n",
        "    \n",
        "    \n",
        "*  $f_{\\mathbf{w},b}(\\mathbf{x}^{(i)})$ is the model's prediction, while $y^{(i)}$, which is the actual label\n",
        "\n",
        "*  $f_{\\mathbf{w},b}(\\mathbf{x}^{(i)}) = g(\\mathbf{w} \\cdot \\mathbf{x^{(i)}} + b)$ where function $g$ is the sigmoid function.\n",
        "\n",
        "Please complete the function loss_function that takes\n",
        "\n",
        " **X**  (input features)\n",
        "\n",
        " **y**  (class labels)\n",
        "\n",
        " **w**  (Parameters of the logistic regression model, (excluding the bias), a numpy array of the shape(1, number of features))\n",
        "\n",
        " **b**  (Bias value of the logistic regression model)\n",
        "\n",
        " You can use the Sigmoid function that you implemented above."
      ]
    },
    {
      "cell_type": "code",
      "execution_count": 122,
      "metadata": {
        "id": "h9RVguhHbEVk"
      },
      "outputs": [],
      "source": [
        "## CODE REQUIRED ##\n",
        "\n",
        "def loss_function(X, y, w, b):\n",
        "      \"\"\"\n",
        "      Computes the loss function for all the training examples\n",
        "      Args:\n",
        "            X: Input data of the shape (# of training samples, # of input features)\n",
        "            y: Target variable of the shape (# of training sample,)\n",
        "            w: Parameters of the logistic regression model (excluding the bias) of the shape (1, number of features)\n",
        "            b: Bias parameter (scalar) of the logistic regression model\n",
        "\n",
        "      Returns:\n",
        "            total_cost: The loss function value of using w and b as the parameters to fit the data points in X and y\n",
        "\n",
        "      \"\"\"\n",
        "      m, n = X.shape\n",
        "\n",
        "      total_cost = 0\n",
        "      ### START CODE HERE ###\n",
        "      y_pred = sigmoid(np.dot(X, w.T) + b)\n",
        "      total_cost = -np.sum(y * np.log(y_pred) + (1 - y) * np.log(1 - y_pred)) / m\n",
        "      ### END CODE HERE ###\n",
        "\n",
        "      return total_cost"
      ]
    },
    {
      "cell_type": "markdown",
      "metadata": {
        "id": "S9YmUPnsASYE"
      },
      "source": [
        "### 2.4. Computing the Gradient of the Loss\n",
        "\n",
        "Recall that the gradient descent algorithm is:\n",
        "\n",
        "$$\\begin{align*}& \\text{repeat until convergence:} \\; \\lbrace \\newline \\; & b := b -  \\alpha \\frac{\\partial J(\\mathbf{w},b)}{\\partial b} \\newline       \\; & w_j := w_j -  \\alpha \\frac{\\partial J(\\mathbf{w},b)}{\\partial w_j} \\tag{1}  \\; & \\text{for j := 0..n-1}\\newline & \\rbrace\\end{align*}$$\n",
        "\n",
        "where, parameters $b$, $w_j$ are all updated simultaniously\n",
        "\n",
        "In this step, you are required to complete the `compute_gradient_logistic_regression` function to compute $\\frac{\\partial J(\\mathbf{w},b)}{\\partial w}$, $\\frac{\\partial J(\\mathbf{w},b)}{\\partial b}$ from equations (2) and (3) below.\n",
        "\n",
        "$$\n",
        "\\frac{\\partial J(\\mathbf{w},b)}{\\partial b}  = \\frac{1}{m} \\sum\\limits_{i = 0}^{m-1} (f_{\\mathbf{w},b}(\\mathbf{x}^{(i)}) - \\mathbf{y}^{(i)}) \\tag{2}\n",
        "$$\n",
        "$$\n",
        "\\frac{\\partial J(\\mathbf{w},b)}{\\partial w_j}  = \\frac{1}{m} \\sum\\limits_{i = 0}^{m-1} (f_{\\mathbf{w},b}(\\mathbf{x}^{(i)}) - \\mathbf{y}^{(i)})x_{j}^{(i)} \\tag{3}\n",
        "$$\n",
        "* m is the number of training examples in the dataset\n",
        "\n",
        "    \n",
        "*  $f_{\\mathbf{w},b}(x^{(i)})$ is the model's prediction, while $y^{(i)}$ is the actual label\n",
        "\n",
        "You can use the sigmoid function that you implemented above."
      ]
    },
    {
      "cell_type": "code",
      "execution_count": 123,
      "metadata": {
        "id": "PWxbewKkbIB8"
      },
      "outputs": [],
      "source": [
        "## CODE REQUIRED ##\n",
        "\n",
        "def compute_gradient_logistic_regression(X, y, w, b):\n",
        "   \"\"\"\n",
        "   Computes the gradient values of the loss function\n",
        "   Args:\n",
        "      X: Input data of the shape (# of training samples, # of input features)\n",
        "      y: Target variable of the shape (# of training sample,)\n",
        "      w: Parameters of the logistic regression model (excluding the bias) of the shape (1, number of features)\n",
        "      b: Bias parameter of the logistic regression model of the shape (1,1) or a scaler\n",
        "   Returns:\n",
        "      dL_dw : The gradient of the cost w.r.t. the parameters w with shape same as w\n",
        "      dL_db : The gradient of the cost w.r.t. the parameter b with shape same as b\n",
        "   \"\"\"\n",
        "   m, n = X.shape\n",
        "   dj_dw = np.zeros(w.shape)\n",
        "   dj_db = 0\n",
        "\n",
        "   ### START CODE HERE ###\n",
        "   \n",
        "   y_pred = sigmoid(np.dot(X, w.T) + b)\n",
        "   dj_dw = np.dot((y_pred - y), X) / m\n",
        "   dj_db = np.sum(y_pred - y) / m\n",
        "   \n",
        "\n",
        "   ### END CODE HERE ###\n",
        "\n",
        "\n",
        "   return dj_db, dj_dw"
      ]
    },
    {
      "cell_type": "markdown",
      "metadata": {
        "id": "6ZMYX655MRFX"
      },
      "source": [
        "### 2.5. Training the model using Batch Gradient Descent\n",
        "\n",
        "Please complete the batch gradient descent algorithm for logistic regression to train and learn the parameters of the logistic regression model. You have to use ```loss_function``` and ```compute_gradient_logistic regression``` functions that you have implemented earlier in this assignment.\n",
        "\n",
        "In this ```batch_gradient_descent_logistic_regression``` function, you have to compute the gradient for the training samples and update the parameters $w$ and $b$ in every iteration:\n",
        "\n",
        "+ $w \\leftarrow w - \\alpha \\frac{\\partial L}{\\partial w}$\n",
        "\n",
        "+ $b \\leftarrow b - \\alpha \\frac{\\partial L}{\\partial b}$\n",
        "\n",
        "This function takes   ```X```    (input features),  ```y```  (class labels),  ```w_in```  (intial values of parameters(excluding bias)),  ```b_in```  (initial value for bias),  ```num_iters```   (number of iterations of training) as input.\n",
        "\n",
        "Additionally, you have compute the loss function values in every iteration and store it in the list variable ```loss_hist``` and print the loss value after every 100 iterations during the training process."
      ]
    },
    {
      "cell_type": "code",
      "execution_count": 124,
      "metadata": {
        "id": "JOi07RVNbL_7"
      },
      "outputs": [],
      "source": [
        "## CODE REQUIRED ##\n",
        "\n",
        "def batch_gradient_descent_logistic_regression(X, y, w_in, b_in, alpha, num_iters):\n",
        "    \"\"\"\n",
        "    Batch gradient descent to learn the parameters (w and b) of the linear regression model and to print loss values\n",
        "    every 100 iterations\n",
        "\n",
        "    Args:\n",
        "        X: Input data of the shape (# of training samples, # of input features)\n",
        "        y: Target variable of the shape (# of training sample,)\n",
        "        w_in: Initial parameters of the logistic regression model (excluding the bias) of the shape (1, number of features)\n",
        "        b_in: Initial bias parameter (scalar) of the logistic regression model\n",
        "        alpha: Learning rate\n",
        "        num_iters: number of iterations\n",
        "    Returns\n",
        "        w: Updated values of parameters of the model after training\n",
        "        b: Updated bias of the model after training\n",
        "        loss_hist: List of loss values for every iteration\n",
        "    \"\"\"\n",
        "\n",
        "    # number of training examples\n",
        "    m = len(X)\n",
        "\n",
        "    # list to store the loss values for every iterations\n",
        "    loss_hist = []\n",
        "\n",
        "    ### START CODE HERE ###\n",
        "    # Initialize the parameters\n",
        "    w_in = copy.deepcopy(w_in)\n",
        "    b_in = b_in\n",
        "\n",
        "    # Perform batch gradient descent\n",
        "    for i in range(num_iters):\n",
        "        dj_db, dj_dw = compute_gradient_logistic_regression(X, y, w_in, b_in)\n",
        "        w_in = w_in - alpha * dj_dw\n",
        "        b_in = b_in - alpha * dj_db\n",
        "\n",
        "        # Compute the loss and store it in a list\n",
        "        loss = loss_function(X, y, w_in, b_in)\n",
        "        loss_hist.append(loss)\n",
        "\n",
        "        # Print the loss after every 100 iterations\n",
        "        if i % 100 == 0:\n",
        "            print(f'Loss after iteration {i}: {loss}')\n",
        "\n",
        "\n",
        "    ### END CODE HERE ###\n",
        "\n",
        "    return w_in, b_in, loss_hist"
      ]
    },
    {
      "cell_type": "markdown",
      "metadata": {
        "id": "3yeLdzT9-5Wc"
      },
      "source": [
        "Now you have to intialize the model parameters ($w$ and $b$) and learning rate (```alpha```). The learning rate ```alpha``` has to be randomly initialized between 0.01 and 0.09. To randomly initialize the learning rate, you have to first set the last two digits of your roll number as the random seed using ```random.seed()``` function."
      ]
    },
    {
      "cell_type": "code",
      "execution_count": 125,
      "metadata": {
        "id": "MIBltyJh-Tjk"
      },
      "outputs": [],
      "source": [
        "## CODE REQUIRED ##\n",
        "\n",
        "## set the last two digits of your roll number as the random seed\n",
        "random_seed = None\n",
        "### START CODE HERE ###\n",
        "random_seed = 17\n",
        "### END CODE HERE ###\n",
        "np.random.seed(random_seed)\n",
        "\n",
        "def initialize_parameters():\n",
        "    \"\"\"\n",
        "    This function randomly initializes the model parameters (w and b) and the hyperparameter alpha\n",
        "    Initial w and b should be randomly sampled from a normal distribution with mean 0\n",
        "    alpha should be randomly initialized between 0.01 and 0.09 by using last two digits of your roll number as the random seed\n",
        "    Args:\n",
        "        None\n",
        "    Returns:\n",
        "        initial_w: Initial parameters of the linear regression model (excluding the bias) of the shape (1, number of features)\n",
        "        initial_b: Initial bias parameter (scalar) of the linear regression model\n",
        "        alpha: Learning rate\n",
        "    \"\"\"\n",
        "\n",
        "    initial_w = None\n",
        "    initial_b = None\n",
        "    alpha = None\n",
        "\n",
        "    ### START CODE HERE ###\n",
        "    # Generate a random number\n",
        "    alpha = random.uniform(0.01, 0.09)\n",
        "\n",
        "    # Initialize the parameters\n",
        "    initial_w = np.random.normal(0, 1, X_train.shape[1])\n",
        "    initial_b = np.random.normal(0, 1, 1)\n",
        "    ### END CODE HERE ###\n",
        "\n",
        "    return initial_w,initial_b,alpha"
      ]
    },
    {
      "cell_type": "markdown",
      "metadata": {
        "id": "KT5CbQ8dZS_J"
      },
      "source": [
        "The following cell runs the batch gradient algorithm for\n",
        "```num_iterations=1000``` to train the logistic regression model. You can change the number of iterations to check any improvements in the performance"
      ]
    },
    {
      "cell_type": "code",
      "execution_count": 126,
      "metadata": {
        "id": "KFTZi7pkbOdp"
      },
      "outputs": [
        {
          "name": "stdout",
          "output_type": "stream",
          "text": [
            "Shape of w:  (12,)\n",
            "Shape of b:  (1,)\n",
            "Loss after iteration 0: 0.6943143528055378\n",
            "Loss after iteration 100: 0.6220495990307616\n",
            "Loss after iteration 200: 0.585383505740966\n",
            "Loss after iteration 300: 0.5554289708930369\n",
            "Loss after iteration 400: 0.5306955356683898\n",
            "Loss after iteration 500: 0.5100514661537814\n",
            "Loss after iteration 600: 0.4926398368661277\n",
            "Loss after iteration 700: 0.47780989854054434\n",
            "Loss after iteration 800: 0.46506407142402456\n",
            "Loss after iteration 900: 0.4540184582466136\n",
            "optimized parameter values w: [ 0.11178273 -1.54043156  1.44466206 -0.05416381  0.86569904  1.68990516\n",
            "  0.79284894 -0.25110638 -0.32257897 -1.64439543  3.64566653 -0.30076103]\n",
            "optimized parameter value b: [-1.81486952]\n",
            "Shape of w:  (12,)\n",
            "Shape of b:  (1,)\n"
          ]
        }
      ],
      "source": [
        "# initialize the parameters (w an b) randomly\n",
        "initial_w, initial_b, alpha = initialize_parameters()\n",
        "num_iterations = 1000\n",
        "\n",
        "#print size\n",
        "print(\"Shape of w: \",initial_w.shape)\n",
        "print(\"Shape of b: \",initial_b.shape)\n",
        "\n",
        "\n",
        "w,b,loss_hist = batch_gradient_descent_logistic_regression(X_train ,y_train, initial_w, initial_b, alpha, num_iterations)\n",
        "print(\"optimized parameter values w:\", w)\n",
        "print(\"optimized parameter value b:\", b)\n",
        "\n",
        "#print size\n",
        "print(\"Shape of w: \",w.shape)\n",
        "print(\"Shape of b: \",b.shape)\n"
      ]
    },
    {
      "cell_type": "markdown",
      "metadata": {
        "id": "pYP0-YUyY50x"
      },
      "source": [
        "### 2.6. Final Train and Test Accuracy\n",
        "After the logistic regression model is trained, we will predict the class labels for the training set and test set and we will compute the accuracy.\n",
        "\n",
        "Please complete the `predict` function to produce `1` or `0` predictions given a dataset and a learned parameter vector $w$ and $b$.\n",
        "- First you need to compute the prediction from the model $f(x^{(i)}) = g(w \\cdot x^{(i)})$ for every example\n",
        "\n",
        "- We interpret the output of the model ($f(x^{(i)})$) as the probability that $y^{(i)}=1$ given $x^{(i)}$ and parameterized by $w$.\n",
        "- Therefore, to get a final prediction ($y^{(i)}=0$ or $y^{(i)}=1$) from the logistic regression model, you can use the following heuristic -\n",
        "\n",
        "  if $f(x^{(i)}) >= 0.5$, predict $y^{(i)}=1$\n",
        "  \n",
        "  if $f(x^{(i)}) < 0.5$, predict $y^{(i)}=0$"
      ]
    },
    {
      "cell_type": "code",
      "execution_count": 127,
      "metadata": {
        "id": "mZDUV2iwbQ_R"
      },
      "outputs": [],
      "source": [
        "def predict(X, w, b):\n",
        "      \"\"\"\n",
        "      Predict whether the label is 0 or 1 using learned logistic regression parameters (w,b)\n",
        "\n",
        "      Args:\n",
        "        X: Input data of shape (number of sample, number of features)\n",
        "        w: Parameters of the logistic regression model (excluding the bias) of the shape (1, number of features)\n",
        "        b: Bias parameter of the logistic regression model\n",
        "\n",
        "      Returns:\n",
        "        p: Predictions for X using a threshold at 0.5\n",
        "      \"\"\"\n",
        "      m, n = X.shape\n",
        "      p = np.zeros(m)\n",
        "      ### START CODE HERE###\n",
        "      y_pred = sigmoid(np.dot(X, w.T) + b)\n",
        "\n",
        "      for i in range(m):\n",
        "          if y_pred[i] > 0.5:\n",
        "              p[i] = 1\n",
        "          else:\n",
        "              p[i] = 0\n",
        "              \n",
        "      ### END CODE HERE ###\n",
        "      return p"
      ]
    },
    {
      "cell_type": "markdown",
      "metadata": {
        "id": "zsrATkIy2KVy"
      },
      "source": [
        "Now let's use this to compute the accuracy on the training and test datasets"
      ]
    },
    {
      "cell_type": "code",
      "execution_count": 128,
      "metadata": {
        "id": "UMmh6WdFbU9Y"
      },
      "outputs": [
        {
          "name": "stdout",
          "output_type": "stream",
          "text": [
            "Train Accuracy: 84.160000\n",
            "Test Accuracy: 85.600000\n"
          ]
        }
      ],
      "source": [
        "p_train = predict(X_train, w,b)\n",
        "print('Train Accuracy: %f'%(np.mean(p_train == y_train) * 100))\n",
        "p_test = predict(X_test, w,b)\n",
        "print('Test Accuracy: %f'%(np.mean(p_test == y_test) * 100))"
      ]
    },
    {
      "cell_type": "markdown",
      "metadata": {
        "id": "B0VqjFy9ZK7D"
      },
      "source": [
        "Now, we plot the loss function values for every iteration."
      ]
    },
    {
      "cell_type": "code",
      "execution_count": 129,
      "metadata": {
        "id": "fkmP3XHMTW74"
      },
      "outputs": [
        {
          "data": {
            "image/png": "[encoded data removed]",
            "text/plain": [
              "<Figure size 640x480 with 1 Axes>"
            ]
          },
          "metadata": {},
          "output_type": "display_data"
        }
      ],
      "source": [
        "# PLotting the loss values for every training iterations\n",
        "\n",
        "loss_plot = [loss_hist[i] for i in range(len(loss_hist))]\n",
        "plt.xlabel(\"Iterations\")\n",
        "plt.ylabel(\"Loss function\")\n",
        "plt.plot(loss_plot)\n",
        "plt.show()"
      ]
    },
    {
      "cell_type": "markdown",
      "metadata": {
        "id": "JgKAU9RBEUlL"
      },
      "source": [
        "### 2.7 Experimenting with different values of the Hyperparemeters\n",
        "\n",
        "Previously, we randomly sampled the learning rate and the number of features to train the model. Now, you have to manually choose the number of features and the learning rate. Then, you have to train the model again on the manually choosen hyperparameters (number of features and learning rate). In the next cell, you have to manually choose the hyperparameters and write the code to train the model.\n",
        "\n",
        "After the model is trained, you have to compare the performance of the model with random chosen hyperparameters and the model **with** manually chosen hyperparameters."
      ]
    },
    {
      "cell_type": "code",
      "execution_count": 130,
      "metadata": {
        "id": "xMcc3cuvIbD_"
      },
      "outputs": [
        {
          "name": "stdout",
          "output_type": "stream",
          "text": [
            "Loss after iteration 0: 2.579347852259423\n",
            "Loss after iteration 100: 0.8565278126719791\n",
            "Loss after iteration 200: 0.7918216726254805\n",
            "Loss after iteration 300: 0.7418255258930927\n",
            "Loss after iteration 400: 0.6990954121831574\n",
            "Loss after iteration 500: 0.6626194254580281\n",
            "Loss after iteration 600: 0.6314419385141914\n",
            "Loss after iteration 700: 0.6047068207985564\n",
            "Loss after iteration 800: 0.5816760382059302\n",
            "Loss after iteration 900: 0.5617293687113084\n",
            "Loss after iteration 1000: 0.5443537653808652\n",
            "Loss after iteration 1100: 0.5291285316484465\n",
            "Loss after iteration 1200: 0.5157099822437533\n",
            "Loss after iteration 1300: 0.5038174154778899\n",
            "Loss after iteration 1400: 0.493221087150316\n",
            "Loss after iteration 1500: 0.48373227146828784\n",
            "Loss after iteration 1600: 0.47519521845351115\n",
            "Loss after iteration 1700: 0.46748072182010897\n",
            "Loss after iteration 1800: 0.46048100438733397\n",
            "Loss after iteration 1900: 0.45410565874812503\n",
            "Loss after iteration 2000: 0.4482784232083395\n",
            "Loss after iteration 2100: 0.4429346149537363\n",
            "Loss after iteration 2200: 0.4380190792407379\n",
            "Loss after iteration 2300: 0.4334845438872779\n",
            "Loss after iteration 2400: 0.4292902927436336\n",
            "Loss after iteration 2500: 0.42540109099766354\n",
            "Loss after iteration 2600: 0.42178631007600853\n",
            "Loss after iteration 2700: 0.4184192114288793\n",
            "Loss after iteration 2800: 0.41527635737867513\n",
            "Loss after iteration 2900: 0.41233712407394896\n",
            "Loss after iteration 3000: 0.40958329689252265\n",
            "Loss after iteration 3100: 0.4069987327457895\n",
            "Loss after iteration 3200: 0.4045690769298829\n",
            "Loss after iteration 3300: 0.4022815246615066\n",
            "Loss after iteration 3400: 0.4001246193888914\n",
            "Loss after iteration 3500: 0.39808808150495606\n",
            "Loss after iteration 3600: 0.3961626623042811\n",
            "Loss after iteration 3700: 0.39434001898976384\n",
            "Loss after iteration 3800: 0.39261260730378833\n",
            "Loss after iteration 3900: 0.390973588974699\n",
            "Loss after iteration 4000: 0.3894167516649007\n",
            "Loss after iteration 4100: 0.3879364395072832\n",
            "Loss after iteration 4200: 0.38652749264151653\n",
            "Loss after iteration 4300: 0.3851851944264124\n",
            "Loss after iteration 4400: 0.3839052252210158\n",
            "Loss after iteration 4500: 0.38268362180484616\n",
            "Loss after iteration 4600: 0.38151674165421356"
          ]
        },
        {
          "ename": "KeyboardInterrupt",
          "evalue": "",
          "output_type": "error",
          "traceback": [
            "\u001b[0;31m---------------------------------------------------------------------------\u001b[0m",
            "\u001b[0;31mKeyboardInterrupt\u001b[0m                         Traceback (most recent call last)",
            "Cell \u001b[0;32mIn[130], line 27\u001b[0m\n\u001b[1;32m     24\u001b[0m initial_w, initial_b, alpha \u001b[38;5;241m=\u001b[39m initialize_parameters()\n\u001b[1;32m     26\u001b[0m \u001b[38;5;66;03m# Perform batch gradient descent\u001b[39;00m\n\u001b[0;32m---> 27\u001b[0m w, b, loss_hist \u001b[38;5;241m=\u001b[39m \u001b[43mbatch_gradient_descent_logistic_regression\u001b[49m\u001b[43m(\u001b[49m\u001b[43mX_train\u001b[49m\u001b[43m,\u001b[49m\u001b[43m \u001b[49m\u001b[43my_train\u001b[49m\u001b[43m,\u001b[49m\u001b[43m \u001b[49m\u001b[43minitial_w\u001b[49m\u001b[43m,\u001b[49m\u001b[43m \u001b[49m\u001b[43minitial_b\u001b[49m\u001b[43m,\u001b[49m\u001b[43m \u001b[49m\u001b[43malpha\u001b[49m\u001b[43m,\u001b[49m\u001b[43m \u001b[49m\u001b[43mnum_iters\u001b[49m\u001b[43m)\u001b[49m\n\u001b[1;32m     29\u001b[0m \u001b[38;5;66;03m# Compute the train and test errors\u001b[39;00m\n\u001b[1;32m     30\u001b[0m train_error \u001b[38;5;241m=\u001b[39m loss_function(X_train, y_train, w, b)\n",
            "Cell \u001b[0;32mIn[124], line 44\u001b[0m, in \u001b[0;36mbatch_gradient_descent_logistic_regression\u001b[0;34m(X, y, w_in, b_in, alpha, num_iters)\u001b[0m\n\u001b[1;32m     42\u001b[0m     \u001b[38;5;66;03m# Print the loss after every 100 iterations\u001b[39;00m\n\u001b[1;32m     43\u001b[0m     \u001b[38;5;28;01mif\u001b[39;00m i \u001b[38;5;241m%\u001b[39m \u001b[38;5;241m100\u001b[39m \u001b[38;5;241m==\u001b[39m \u001b[38;5;241m0\u001b[39m:\n\u001b[0;32m---> 44\u001b[0m         \u001b[38;5;28;43mprint\u001b[39;49m\u001b[43m(\u001b[49m\u001b[38;5;124;43mf\u001b[39;49m\u001b[38;5;124;43m'\u001b[39;49m\u001b[38;5;124;43mLoss after iteration \u001b[39;49m\u001b[38;5;132;43;01m{\u001b[39;49;00m\u001b[43mi\u001b[49m\u001b[38;5;132;43;01m}\u001b[39;49;00m\u001b[38;5;124;43m: \u001b[39;49m\u001b[38;5;132;43;01m{\u001b[39;49;00m\u001b[43mloss\u001b[49m\u001b[38;5;132;43;01m}\u001b[39;49;00m\u001b[38;5;124;43m'\u001b[39;49m\u001b[43m)\u001b[49m\n\u001b[1;32m     47\u001b[0m \u001b[38;5;66;03m### END CODE HERE ###\u001b[39;00m\n\u001b[1;32m     49\u001b[0m \u001b[38;5;28;01mreturn\u001b[39;00m w_in, b_in, loss_hist\n",
            "File \u001b[0;32m~/.pyenv/versions/3.9.7/lib/python3.9/site-packages/ipykernel/iostream.py:694\u001b[0m, in \u001b[0;36mOutStream.write\u001b[0;34m(self, string)\u001b[0m\n\u001b[1;32m    692\u001b[0m     \u001b[38;5;28mself\u001b[39m\u001b[38;5;241m.\u001b[39mpub_thread\u001b[38;5;241m.\u001b[39mschedule(\u001b[38;5;28mself\u001b[39m\u001b[38;5;241m.\u001b[39m_flush)\n\u001b[1;32m    693\u001b[0m \u001b[38;5;28;01melse\u001b[39;00m:\n\u001b[0;32m--> 694\u001b[0m     \u001b[38;5;28;43mself\u001b[39;49m\u001b[38;5;241;43m.\u001b[39;49m\u001b[43m_schedule_flush\u001b[49m\u001b[43m(\u001b[49m\u001b[43m)\u001b[49m\n\u001b[1;32m    696\u001b[0m \u001b[38;5;28;01mreturn\u001b[39;00m \u001b[38;5;28mlen\u001b[39m(string)\n",
            "File \u001b[0;32m~/.pyenv/versions/3.9.7/lib/python3.9/site-packages/ipykernel/iostream.py:577\u001b[0m, in \u001b[0;36mOutStream._schedule_flush\u001b[0;34m(self)\u001b[0m\n\u001b[1;32m    573\u001b[0m \u001b[38;5;129m@property\u001b[39m\n\u001b[1;32m    574\u001b[0m \u001b[38;5;28;01mdef\u001b[39;00m \u001b[38;5;21mclosed\u001b[39m(\u001b[38;5;28mself\u001b[39m):\n\u001b[1;32m    575\u001b[0m     \u001b[38;5;28;01mreturn\u001b[39;00m \u001b[38;5;28mself\u001b[39m\u001b[38;5;241m.\u001b[39mpub_thread \u001b[38;5;129;01mis\u001b[39;00m \u001b[38;5;28;01mNone\u001b[39;00m\n\u001b[0;32m--> 577\u001b[0m \u001b[38;5;28;01mdef\u001b[39;00m \u001b[38;5;21m_schedule_flush\u001b[39m(\u001b[38;5;28mself\u001b[39m):\n\u001b[1;32m    578\u001b[0m \u001b[38;5;250m    \u001b[39m\u001b[38;5;124;03m\"\"\"schedule a flush in the IO thread\u001b[39;00m\n\u001b[1;32m    579\u001b[0m \n\u001b[1;32m    580\u001b[0m \u001b[38;5;124;03m    call this on write, to indicate that flush should be called soon.\u001b[39;00m\n\u001b[1;32m    581\u001b[0m \u001b[38;5;124;03m    \"\"\"\u001b[39;00m\n\u001b[1;32m    582\u001b[0m     \u001b[38;5;28;01mif\u001b[39;00m \u001b[38;5;28mself\u001b[39m\u001b[38;5;241m.\u001b[39m_flush_pending:\n",
            "\u001b[0;31mKeyboardInterrupt\u001b[0m: "
          ]
        }
      ],
      "source": [
        "## CODE REQUIRED ##\n",
        "\n",
        "\"\"\"\n",
        "Manually choose the hyperparameters (learning rate and number of features) and train the model.\n",
        "Then compare the performance with random chosen hyperparameters and manually chosen hyperparameters.\n",
        "\"\"\"\n",
        "\n",
        "### START CODE HERE ###\n",
        "# Manually choose the hyperparameters\n",
        "alpha = 0.01\n",
        "num_features = 11\n",
        "\n",
        "# Select the first num_features of the input data\n",
        "X = X[:, :num_features]\n",
        "\n",
        "# Split the data into training and testing sets\n",
        "X_train, X_test, y_train, y_test = train_test_split(X, y, test_size=0.25, random_state=42)\n",
        "\n",
        "# Normalize the data\n",
        "X_train = min_max_scaler(X_train)\n",
        "X_test = min_max_scaler(X_test)\n",
        "\n",
        "# Initialize the parameters\n",
        "initial_w, initial_b, alpha = initialize_parameters()\n",
        "\n",
        "# Perform batch gradient descent\n",
        "w, b, loss_hist = batch_gradient_descent_logistic_regression(X_train, y_train, initial_w, initial_b, alpha, num_iters)\n",
        "\n",
        "# Compute the train and test errors\n",
        "train_error = loss_function(X_train, y_train, w, b)\n",
        "test_error = loss_function(X_test, y_test, w, b)\n",
        "print(\"Train Error: \", train_error, \", Test Error: \", test_error)\n",
        "\n",
        "#plot the loss values\n",
        "loss_plot = [loss_hist[i] for i in range(len(loss_hist))]\n",
        "\n",
        "#find accuracy\n",
        "p_train = predict(X_train, w, b)\n",
        "print('Train Accuracy: %f'%(np.mean(p_train == y_train) * 100))\n",
        "p_test = predict(X_test, w, b)\n",
        "print('Test Accuracy: %f'%(np.mean(p_test == y_test) * 100))\n",
        "\n",
        "\n",
        "plt.xlabel(\"Iterations\")\n",
        "plt.ylabel(\"Loss function\")\n",
        "plt.plot(loss_plot)\n",
        "plt.show()\n",
        "\n",
        "### END CODE HERE ###"
      ]
    }
  ],
  "metadata": {
    "colab": {
      "provenance": []
    },
    "kernelspec": {
      "display_name": "Python 3 (ipykernel)",
      "language": "python",
      "name": "python3"
    },
    "language_info": {
      "codemirror_mode": {
        "name": "ipython",
        "version": 3
      },
      "file_extension": ".py",
      "mimetype": "text/x-python",
      "name": "python",
      "nbconvert_exporter": "python",
      "pygments_lexer": "ipython3",
      "version": "3.9.7"
    }
  },
  "nbformat": 4,
  "nbformat_minor": 0
}
